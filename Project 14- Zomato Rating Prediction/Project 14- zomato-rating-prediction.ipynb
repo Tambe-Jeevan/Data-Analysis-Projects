{
 "cells": [
  {
   "cell_type": "markdown",
   "id": "6a44d54a",
   "metadata": {
    "papermill": {
     "duration": 0.098297,
     "end_time": "2022-05-16T06:08:20.610395",
     "exception": false,
     "start_time": "2022-05-16T06:08:20.512098",
     "status": "completed"
    },
    "tags": []
   },
   "source": [
    "# Zomato Restaurant Ratings"
   ]
  },
  {
   "cell_type": "markdown",
   "id": "42f233f9",
   "metadata": {
    "papermill": {
     "duration": 0.097228,
     "end_time": "2022-05-16T06:08:20.804975",
     "exception": false,
     "start_time": "2022-05-16T06:08:20.707747",
     "status": "completed"
    },
    "tags": []
   },
   "source": [
    "# **ABSTRACT**\n",
    "\n",
    "Zomato is one of the best online food delivery apps which gives the users the ratings and the reviews on restaurants all over india.These ratings and the Reviews are considered as one of the most important deciding factors which determine how good a restaurant is. \n",
    "\n",
    "We will therefore use the real time Data set with variuos features a user would look into regarding a restaurant. We will be considering Banglore City in this analysis.\n",
    "\n",
    "Content\n",
    "The basic idea of analyzing the Zomato dataset is to get a fair idea about the factors affecting the establishment\n",
    "of different types of restaurant at different places in Bengaluru, aggregate rating of each restaurant, Bengaluru\n",
    "being one such city has more than 12,000 restaurants with restaurants serving dishes from all over the world.\n",
    "\n",
    "With each day new restaurants opening the industry has’nt been saturated yet and the demand is increasing\n",
    "day by day. Inspite of increasing demand it however has become difficult for new restaurants to compete with\n",
    "established restaurants. Most of them serving the same food. Bengaluru being an IT capital of India. Most of the people here are dependent mainly on the restaurant food as they don’t have time to cook for themselves.\n",
    "\n",
    "With such an overwhelming demand of restaurants it has therefore become important to study the demography\n",
    "of a location. What kind of a food is more popular in a locality. Do the entire locality loves vegetarian food.\n",
    "If yes then is that locality populated by a particular sect of people for eg. Jain, Marwaris, Gujaratis who are\n",
    "mostly vegetarian. These kind of analysis can be done using the data, by studying the factors such as\n",
    "\n",
    "    • Location of the restaurant\n",
    "    • Approx Price of food\n",
    "    • Theme based restaurant or not\n",
    "    • Which locality of that city serves that cuisines with maximum number of restaurants\n",
    "    • The needs of people who are striving to get the best cuisine of the neighborhood\n",
    "    • Is a particular neighborhood famous for its own kind of food.\n",
    "\n",
    "“Just so that you have a good meal the next time you step out”\n",
    "\n",
    "The data is accurate to that available on the zomato website until 15 March 2019.\n",
    "The data was scraped from Zomato in two phase. After going through the structure of the website I found that for each neighborhood there are 6-7 category of restaurants viz. Buffet, Cafes, Delivery, Desserts, Dine-out, Drinks & nightlife, Pubs and bars.\n",
    "\n",
    "Phase I,\n",
    "\n",
    "In Phase I of extraction only the URL, name and address of the restaurant were extracted which were visible on the front page. The URl's for each of the restaurants on the zomato were recorded in the csv file so that later the data can be extracted individually for each restaurant. This made the extraction process easier and reduced the extra load on my machine. The data for each neighborhood and each category can be found here\n",
    "\n",
    "Phase II,\n",
    "\n",
    "In Phase II the recorded data for each restaurant and each category was read and data for each restaurant was scraped individually. 15 variables were scraped in this phase. For each of the neighborhood and for each category their onlineorder, booktable, rate, votes, phone, location, resttype, dishliked, cuisines, approxcost(for two people), reviewslist, menu_item was extracted. See section 5 for more details about the variables.\n",
    "\n",
    "Acknowledgements\n",
    "The data scraped was entirely for educational purposes only. Note that I don’t claim any copyright for the data. All copyrights for the data is owned by Zomato Media Pvt. Ltd..\n",
    "\n",
    "         Source: Kaggle"
   ]
  },
  {
   "cell_type": "markdown",
   "id": "38ee41a8",
   "metadata": {
    "papermill": {
     "duration": 0.096875,
     "end_time": "2022-05-16T06:08:21.001002",
     "exception": false,
     "start_time": "2022-05-16T06:08:20.904127",
     "status": "completed"
    },
    "tags": []
   },
   "source": [
    "**Main Objective:**\n",
    "\n",
    "The main agenda of this project is:\n",
    "\n",
    ">> Perform extensive **Exploratory Data Analysis(EDA)** on the Zomato Dataset.\n",
    "\n",
    ">>Build an appropriate **Machine Learning Model** that will help various Zomato Restaurants to predict their respective Ratings based on certain features\n",
    "\n"
   ]
  },
  {
   "cell_type": "markdown",
   "id": "e8b310eb",
   "metadata": {
    "papermill": {
     "duration": 0.095041,
     "end_time": "2022-05-16T06:08:21.19338",
     "exception": false,
     "start_time": "2022-05-16T06:08:21.098339",
     "status": "completed"
    },
    "tags": []
   },
   "source": [
    "## Feature description\n",
    "\n",
    "1. <b>url </B> contains the url of the restaurant in the zomato website\n",
    "\n",
    "2. **address** contains the address of the restaurant in Bengaluru\n",
    "\n",
    "3. **name** contains the name of the restaurant\n",
    "\n",
    "4. **online_order** whether online ordering is available in the restaurant or not\n",
    "\n",
    "5. **book_table** table book option available or not\n",
    "\n",
    "6. **rate** contains the overall rating of the restaurant out of 5\n",
    "\n",
    "7. **votes** contains total number of rating for the restaurant as of the above mentioned date\n",
    "\n",
    "8. **phone** contains the phone number of the restaurant\n",
    "\n",
    "9. **location** contains the neighborhood in which the restaurant is located\n",
    "\n",
    "10. **rest_type** restaurant type\n",
    "\n",
    "11. **dish_liked** dishes people liked in the restaurant\n",
    "\n",
    "12. **cuisines** food styles, separated by comma\n",
    "\n",
    "13. **approx_cost**(for two people) contains the approximate cost of meal for two people\n",
    "\n",
    "14. **reviews_list** list of tuples containing reviews for the restaurant, each tuple\n",
    "\n",
    "15. **menu_item** contains list of menus available in the restaurant\n",
    "\n",
    "16. **listed_in**(type) type of meal\n",
    "\n",
    "17. **listed_in**(**city**) contains the neighborhood in which the restaurant is listed"
   ]
  },
  {
   "cell_type": "markdown",
   "id": "46cec34a",
   "metadata": {
    "papermill": {
     "duration": 0.094955,
     "end_time": "2022-05-16T06:08:21.383569",
     "exception": false,
     "start_time": "2022-05-16T06:08:21.288614",
     "status": "completed"
    },
    "tags": []
   },
   "source": [
    "##  1. Importing the libraires"
   ]
  },
  {
   "cell_type": "code",
   "execution_count": 1,
   "id": "1b401171",
   "metadata": {
    "papermill": {
     "duration": 1.219062,
     "end_time": "2022-05-16T06:08:22.700587",
     "exception": false,
     "start_time": "2022-05-16T06:08:21.481525",
     "status": "completed"
    },
    "tags": []
   },
   "outputs": [],
   "source": [
    "import numpy as np\n",
    "import pandas as pd\n",
    "import seaborn as sns\n",
    "import matplotlib.pyplot as plt\n",
    "\n",
    "import warnings\n",
    "warnings.filterwarnings('ignore')"
   ]
  },
  {
   "cell_type": "markdown",
   "id": "3839ebf1",
   "metadata": {
    "papermill": {
     "duration": 0.094794,
     "end_time": "2022-05-16T06:08:22.892244",
     "exception": false,
     "start_time": "2022-05-16T06:08:22.79745",
     "status": "completed"
    },
    "tags": []
   },
   "source": [
    "#### 1.1 Loading the dataset"
   ]
  },
  {
   "cell_type": "code",
   "execution_count": 2,
   "id": "e2c157e4",
   "metadata": {
    "papermill": {
     "duration": 13.463121,
     "end_time": "2022-05-16T06:08:36.450134",
     "exception": false,
     "start_time": "2022-05-16T06:08:22.987013",
     "status": "completed"
    },
    "tags": []
   },
   "outputs": [],
   "source": [
    "data = pd.read_csv(r'C:\\Users\\tambe\\OneDrive\\Desktop\\data analysis\\Project 14- Zomato Rating Prediction\\zomato.csv')"
   ]
  },
  {
   "cell_type": "code",
   "execution_count": 3,
   "id": "3d2469db",
   "metadata": {
    "papermill": {
     "duration": 0.134724,
     "end_time": "2022-05-16T06:08:36.68336",
     "exception": false,
     "start_time": "2022-05-16T06:08:36.548636",
     "status": "completed"
    },
    "tags": []
   },
   "outputs": [
    {
     "data": {
      "text/html": [
       "<div>\n",
       "<style scoped>\n",
       "    .dataframe tbody tr th:only-of-type {\n",
       "        vertical-align: middle;\n",
       "    }\n",
       "\n",
       "    .dataframe tbody tr th {\n",
       "        vertical-align: top;\n",
       "    }\n",
       "\n",
       "    .dataframe thead th {\n",
       "        text-align: right;\n",
       "    }\n",
       "</style>\n",
       "<table border=\"1\" class=\"dataframe\">\n",
       "  <thead>\n",
       "    <tr style=\"text-align: right;\">\n",
       "      <th></th>\n",
       "      <th>url</th>\n",
       "      <th>address</th>\n",
       "      <th>name</th>\n",
       "      <th>online_order</th>\n",
       "      <th>book_table</th>\n",
       "      <th>rate</th>\n",
       "      <th>votes</th>\n",
       "      <th>phone</th>\n",
       "      <th>location</th>\n",
       "      <th>rest_type</th>\n",
       "      <th>dish_liked</th>\n",
       "      <th>cuisines</th>\n",
       "      <th>approx_cost(for two people)</th>\n",
       "      <th>reviews_list</th>\n",
       "      <th>menu_item</th>\n",
       "      <th>listed_in(type)</th>\n",
       "      <th>listed_in(city)</th>\n",
       "    </tr>\n",
       "  </thead>\n",
       "  <tbody>\n",
       "    <tr>\n",
       "      <th>0</th>\n",
       "      <td>https://www.zomato.com/bangalore/jalsa-banasha...</td>\n",
       "      <td>942, 21st Main Road, 2nd Stage, Banashankari, ...</td>\n",
       "      <td>Jalsa</td>\n",
       "      <td>Yes</td>\n",
       "      <td>Yes</td>\n",
       "      <td>4.1/5</td>\n",
       "      <td>775</td>\n",
       "      <td>080 42297555\\r\\n+91 9743772233</td>\n",
       "      <td>Banashankari</td>\n",
       "      <td>Casual Dining</td>\n",
       "      <td>Pasta, Lunch Buffet, Masala Papad, Paneer Laja...</td>\n",
       "      <td>North Indian, Mughlai, Chinese</td>\n",
       "      <td>800</td>\n",
       "      <td>[('Rated 4.0', 'RATED\\n  A beautiful place to ...</td>\n",
       "      <td>[]</td>\n",
       "      <td>Buffet</td>\n",
       "      <td>Banashankari</td>\n",
       "    </tr>\n",
       "    <tr>\n",
       "      <th>1</th>\n",
       "      <td>https://www.zomato.com/bangalore/spice-elephan...</td>\n",
       "      <td>2nd Floor, 80 Feet Road, Near Big Bazaar, 6th ...</td>\n",
       "      <td>Spice Elephant</td>\n",
       "      <td>Yes</td>\n",
       "      <td>No</td>\n",
       "      <td>4.1/5</td>\n",
       "      <td>787</td>\n",
       "      <td>080 41714161</td>\n",
       "      <td>Banashankari</td>\n",
       "      <td>Casual Dining</td>\n",
       "      <td>Momos, Lunch Buffet, Chocolate Nirvana, Thai G...</td>\n",
       "      <td>Chinese, North Indian, Thai</td>\n",
       "      <td>800</td>\n",
       "      <td>[('Rated 4.0', 'RATED\\n  Had been here for din...</td>\n",
       "      <td>[]</td>\n",
       "      <td>Buffet</td>\n",
       "      <td>Banashankari</td>\n",
       "    </tr>\n",
       "    <tr>\n",
       "      <th>2</th>\n",
       "      <td>https://www.zomato.com/SanchurroBangalore?cont...</td>\n",
       "      <td>1112, Next to KIMS Medical College, 17th Cross...</td>\n",
       "      <td>San Churro Cafe</td>\n",
       "      <td>Yes</td>\n",
       "      <td>No</td>\n",
       "      <td>3.8/5</td>\n",
       "      <td>918</td>\n",
       "      <td>+91 9663487993</td>\n",
       "      <td>Banashankari</td>\n",
       "      <td>Cafe, Casual Dining</td>\n",
       "      <td>Churros, Cannelloni, Minestrone Soup, Hot Choc...</td>\n",
       "      <td>Cafe, Mexican, Italian</td>\n",
       "      <td>800</td>\n",
       "      <td>[('Rated 3.0', \"RATED\\n  Ambience is not that ...</td>\n",
       "      <td>[]</td>\n",
       "      <td>Buffet</td>\n",
       "      <td>Banashankari</td>\n",
       "    </tr>\n",
       "    <tr>\n",
       "      <th>3</th>\n",
       "      <td>https://www.zomato.com/bangalore/addhuri-udupi...</td>\n",
       "      <td>1st Floor, Annakuteera, 3rd Stage, Banashankar...</td>\n",
       "      <td>Addhuri Udupi Bhojana</td>\n",
       "      <td>No</td>\n",
       "      <td>No</td>\n",
       "      <td>3.7/5</td>\n",
       "      <td>88</td>\n",
       "      <td>+91 9620009302</td>\n",
       "      <td>Banashankari</td>\n",
       "      <td>Quick Bites</td>\n",
       "      <td>Masala Dosa</td>\n",
       "      <td>South Indian, North Indian</td>\n",
       "      <td>300</td>\n",
       "      <td>[('Rated 4.0', \"RATED\\n  Great food and proper...</td>\n",
       "      <td>[]</td>\n",
       "      <td>Buffet</td>\n",
       "      <td>Banashankari</td>\n",
       "    </tr>\n",
       "    <tr>\n",
       "      <th>4</th>\n",
       "      <td>https://www.zomato.com/bangalore/grand-village...</td>\n",
       "      <td>10, 3rd Floor, Lakshmi Associates, Gandhi Baza...</td>\n",
       "      <td>Grand Village</td>\n",
       "      <td>No</td>\n",
       "      <td>No</td>\n",
       "      <td>3.8/5</td>\n",
       "      <td>166</td>\n",
       "      <td>+91 8026612447\\r\\n+91 9901210005</td>\n",
       "      <td>Basavanagudi</td>\n",
       "      <td>Casual Dining</td>\n",
       "      <td>Panipuri, Gol Gappe</td>\n",
       "      <td>North Indian, Rajasthani</td>\n",
       "      <td>600</td>\n",
       "      <td>[('Rated 4.0', 'RATED\\n  Very good restaurant ...</td>\n",
       "      <td>[]</td>\n",
       "      <td>Buffet</td>\n",
       "      <td>Banashankari</td>\n",
       "    </tr>\n",
       "    <tr>\n",
       "      <th>...</th>\n",
       "      <td>...</td>\n",
       "      <td>...</td>\n",
       "      <td>...</td>\n",
       "      <td>...</td>\n",
       "      <td>...</td>\n",
       "      <td>...</td>\n",
       "      <td>...</td>\n",
       "      <td>...</td>\n",
       "      <td>...</td>\n",
       "      <td>...</td>\n",
       "      <td>...</td>\n",
       "      <td>...</td>\n",
       "      <td>...</td>\n",
       "      <td>...</td>\n",
       "      <td>...</td>\n",
       "      <td>...</td>\n",
       "      <td>...</td>\n",
       "    </tr>\n",
       "    <tr>\n",
       "      <th>51712</th>\n",
       "      <td>https://www.zomato.com/bangalore/best-brews-fo...</td>\n",
       "      <td>Four Points by Sheraton Bengaluru, 43/3, White...</td>\n",
       "      <td>Best Brews - Four Points by Sheraton Bengaluru...</td>\n",
       "      <td>No</td>\n",
       "      <td>No</td>\n",
       "      <td>3.6 /5</td>\n",
       "      <td>27</td>\n",
       "      <td>080 40301477</td>\n",
       "      <td>Whitefield</td>\n",
       "      <td>Bar</td>\n",
       "      <td>NaN</td>\n",
       "      <td>Continental</td>\n",
       "      <td>1,500</td>\n",
       "      <td>[('Rated 5.0', \"RATED\\n  Food and service are ...</td>\n",
       "      <td>[]</td>\n",
       "      <td>Pubs and bars</td>\n",
       "      <td>Whitefield</td>\n",
       "    </tr>\n",
       "    <tr>\n",
       "      <th>51713</th>\n",
       "      <td>https://www.zomato.com/bangalore/vinod-bar-and...</td>\n",
       "      <td>Number 10, Garudachar Palya, Mahadevapura, Whi...</td>\n",
       "      <td>Vinod Bar And Restaurant</td>\n",
       "      <td>No</td>\n",
       "      <td>No</td>\n",
       "      <td>NaN</td>\n",
       "      <td>0</td>\n",
       "      <td>+91 8197675843</td>\n",
       "      <td>Whitefield</td>\n",
       "      <td>Bar</td>\n",
       "      <td>NaN</td>\n",
       "      <td>Finger Food</td>\n",
       "      <td>600</td>\n",
       "      <td>[]</td>\n",
       "      <td>[]</td>\n",
       "      <td>Pubs and bars</td>\n",
       "      <td>Whitefield</td>\n",
       "    </tr>\n",
       "    <tr>\n",
       "      <th>51714</th>\n",
       "      <td>https://www.zomato.com/bangalore/plunge-sherat...</td>\n",
       "      <td>Sheraton Grand Bengaluru Whitefield Hotel &amp; Co...</td>\n",
       "      <td>Plunge - Sheraton Grand Bengaluru Whitefield H...</td>\n",
       "      <td>No</td>\n",
       "      <td>No</td>\n",
       "      <td>NaN</td>\n",
       "      <td>0</td>\n",
       "      <td>NaN</td>\n",
       "      <td>Whitefield</td>\n",
       "      <td>Bar</td>\n",
       "      <td>NaN</td>\n",
       "      <td>Finger Food</td>\n",
       "      <td>2,000</td>\n",
       "      <td>[]</td>\n",
       "      <td>[]</td>\n",
       "      <td>Pubs and bars</td>\n",
       "      <td>Whitefield</td>\n",
       "    </tr>\n",
       "    <tr>\n",
       "      <th>51715</th>\n",
       "      <td>https://www.zomato.com/bangalore/chime-sherato...</td>\n",
       "      <td>Sheraton Grand Bengaluru Whitefield Hotel &amp; Co...</td>\n",
       "      <td>Chime - Sheraton Grand Bengaluru Whitefield Ho...</td>\n",
       "      <td>No</td>\n",
       "      <td>Yes</td>\n",
       "      <td>4.3 /5</td>\n",
       "      <td>236</td>\n",
       "      <td>080 49652769</td>\n",
       "      <td>ITPL Main Road, Whitefield</td>\n",
       "      <td>Bar</td>\n",
       "      <td>Cocktails, Pizza, Buttermilk</td>\n",
       "      <td>Finger Food</td>\n",
       "      <td>2,500</td>\n",
       "      <td>[('Rated 4.0', 'RATED\\n  Nice and friendly pla...</td>\n",
       "      <td>[]</td>\n",
       "      <td>Pubs and bars</td>\n",
       "      <td>Whitefield</td>\n",
       "    </tr>\n",
       "    <tr>\n",
       "      <th>51716</th>\n",
       "      <td>https://www.zomato.com/bangalore/the-nest-the-...</td>\n",
       "      <td>ITPL Main Road, KIADB Export Promotion Industr...</td>\n",
       "      <td>The Nest - The Den Bengaluru</td>\n",
       "      <td>No</td>\n",
       "      <td>No</td>\n",
       "      <td>3.4 /5</td>\n",
       "      <td>13</td>\n",
       "      <td>+91 8071117272</td>\n",
       "      <td>ITPL Main Road, Whitefield</td>\n",
       "      <td>Bar, Casual Dining</td>\n",
       "      <td>NaN</td>\n",
       "      <td>Finger Food, North Indian, Continental</td>\n",
       "      <td>1,500</td>\n",
       "      <td>[('Rated 5.0', 'RATED\\n  Great ambience , look...</td>\n",
       "      <td>[]</td>\n",
       "      <td>Pubs and bars</td>\n",
       "      <td>Whitefield</td>\n",
       "    </tr>\n",
       "  </tbody>\n",
       "</table>\n",
       "<p>51717 rows × 17 columns</p>\n",
       "</div>"
      ],
      "text/plain": [
       "                                                     url  \\\n",
       "0      https://www.zomato.com/bangalore/jalsa-banasha...   \n",
       "1      https://www.zomato.com/bangalore/spice-elephan...   \n",
       "2      https://www.zomato.com/SanchurroBangalore?cont...   \n",
       "3      https://www.zomato.com/bangalore/addhuri-udupi...   \n",
       "4      https://www.zomato.com/bangalore/grand-village...   \n",
       "...                                                  ...   \n",
       "51712  https://www.zomato.com/bangalore/best-brews-fo...   \n",
       "51713  https://www.zomato.com/bangalore/vinod-bar-and...   \n",
       "51714  https://www.zomato.com/bangalore/plunge-sherat...   \n",
       "51715  https://www.zomato.com/bangalore/chime-sherato...   \n",
       "51716  https://www.zomato.com/bangalore/the-nest-the-...   \n",
       "\n",
       "                                                 address  \\\n",
       "0      942, 21st Main Road, 2nd Stage, Banashankari, ...   \n",
       "1      2nd Floor, 80 Feet Road, Near Big Bazaar, 6th ...   \n",
       "2      1112, Next to KIMS Medical College, 17th Cross...   \n",
       "3      1st Floor, Annakuteera, 3rd Stage, Banashankar...   \n",
       "4      10, 3rd Floor, Lakshmi Associates, Gandhi Baza...   \n",
       "...                                                  ...   \n",
       "51712  Four Points by Sheraton Bengaluru, 43/3, White...   \n",
       "51713  Number 10, Garudachar Palya, Mahadevapura, Whi...   \n",
       "51714  Sheraton Grand Bengaluru Whitefield Hotel & Co...   \n",
       "51715  Sheraton Grand Bengaluru Whitefield Hotel & Co...   \n",
       "51716  ITPL Main Road, KIADB Export Promotion Industr...   \n",
       "\n",
       "                                                    name online_order  \\\n",
       "0                                                  Jalsa          Yes   \n",
       "1                                         Spice Elephant          Yes   \n",
       "2                                        San Churro Cafe          Yes   \n",
       "3                                  Addhuri Udupi Bhojana           No   \n",
       "4                                          Grand Village           No   \n",
       "...                                                  ...          ...   \n",
       "51712  Best Brews - Four Points by Sheraton Bengaluru...           No   \n",
       "51713                           Vinod Bar And Restaurant           No   \n",
       "51714  Plunge - Sheraton Grand Bengaluru Whitefield H...           No   \n",
       "51715  Chime - Sheraton Grand Bengaluru Whitefield Ho...           No   \n",
       "51716                       The Nest - The Den Bengaluru           No   \n",
       "\n",
       "      book_table    rate  votes                             phone  \\\n",
       "0            Yes   4.1/5    775    080 42297555\\r\\n+91 9743772233   \n",
       "1             No   4.1/5    787                      080 41714161   \n",
       "2             No   3.8/5    918                    +91 9663487993   \n",
       "3             No   3.7/5     88                    +91 9620009302   \n",
       "4             No   3.8/5    166  +91 8026612447\\r\\n+91 9901210005   \n",
       "...          ...     ...    ...                               ...   \n",
       "51712         No  3.6 /5     27                      080 40301477   \n",
       "51713         No     NaN      0                    +91 8197675843   \n",
       "51714         No     NaN      0                               NaN   \n",
       "51715        Yes  4.3 /5    236                      080 49652769   \n",
       "51716         No  3.4 /5     13                    +91 8071117272   \n",
       "\n",
       "                         location            rest_type  \\\n",
       "0                    Banashankari        Casual Dining   \n",
       "1                    Banashankari        Casual Dining   \n",
       "2                    Banashankari  Cafe, Casual Dining   \n",
       "3                    Banashankari          Quick Bites   \n",
       "4                    Basavanagudi        Casual Dining   \n",
       "...                           ...                  ...   \n",
       "51712                  Whitefield                  Bar   \n",
       "51713                  Whitefield                  Bar   \n",
       "51714                  Whitefield                  Bar   \n",
       "51715  ITPL Main Road, Whitefield                  Bar   \n",
       "51716  ITPL Main Road, Whitefield   Bar, Casual Dining   \n",
       "\n",
       "                                              dish_liked  \\\n",
       "0      Pasta, Lunch Buffet, Masala Papad, Paneer Laja...   \n",
       "1      Momos, Lunch Buffet, Chocolate Nirvana, Thai G...   \n",
       "2      Churros, Cannelloni, Minestrone Soup, Hot Choc...   \n",
       "3                                            Masala Dosa   \n",
       "4                                    Panipuri, Gol Gappe   \n",
       "...                                                  ...   \n",
       "51712                                                NaN   \n",
       "51713                                                NaN   \n",
       "51714                                                NaN   \n",
       "51715                       Cocktails, Pizza, Buttermilk   \n",
       "51716                                                NaN   \n",
       "\n",
       "                                     cuisines approx_cost(for two people)  \\\n",
       "0              North Indian, Mughlai, Chinese                         800   \n",
       "1                 Chinese, North Indian, Thai                         800   \n",
       "2                      Cafe, Mexican, Italian                         800   \n",
       "3                  South Indian, North Indian                         300   \n",
       "4                    North Indian, Rajasthani                         600   \n",
       "...                                       ...                         ...   \n",
       "51712                             Continental                       1,500   \n",
       "51713                             Finger Food                         600   \n",
       "51714                             Finger Food                       2,000   \n",
       "51715                             Finger Food                       2,500   \n",
       "51716  Finger Food, North Indian, Continental                       1,500   \n",
       "\n",
       "                                            reviews_list menu_item  \\\n",
       "0      [('Rated 4.0', 'RATED\\n  A beautiful place to ...        []   \n",
       "1      [('Rated 4.0', 'RATED\\n  Had been here for din...        []   \n",
       "2      [('Rated 3.0', \"RATED\\n  Ambience is not that ...        []   \n",
       "3      [('Rated 4.0', \"RATED\\n  Great food and proper...        []   \n",
       "4      [('Rated 4.0', 'RATED\\n  Very good restaurant ...        []   \n",
       "...                                                  ...       ...   \n",
       "51712  [('Rated 5.0', \"RATED\\n  Food and service are ...        []   \n",
       "51713                                                 []        []   \n",
       "51714                                                 []        []   \n",
       "51715  [('Rated 4.0', 'RATED\\n  Nice and friendly pla...        []   \n",
       "51716  [('Rated 5.0', 'RATED\\n  Great ambience , look...        []   \n",
       "\n",
       "      listed_in(type) listed_in(city)  \n",
       "0              Buffet    Banashankari  \n",
       "1              Buffet    Banashankari  \n",
       "2              Buffet    Banashankari  \n",
       "3              Buffet    Banashankari  \n",
       "4              Buffet    Banashankari  \n",
       "...               ...             ...  \n",
       "51712   Pubs and bars      Whitefield  \n",
       "51713   Pubs and bars      Whitefield  \n",
       "51714   Pubs and bars      Whitefield  \n",
       "51715   Pubs and bars      Whitefield  \n",
       "51716   Pubs and bars      Whitefield  \n",
       "\n",
       "[51717 rows x 17 columns]"
      ]
     },
     "execution_count": 3,
     "metadata": {},
     "output_type": "execute_result"
    }
   ],
   "source": [
    "data"
   ]
  },
  {
   "cell_type": "markdown",
   "id": "4e33df42",
   "metadata": {
    "papermill": {
     "duration": 0.097904,
     "end_time": "2022-05-16T06:08:36.884814",
     "exception": false,
     "start_time": "2022-05-16T06:08:36.78691",
     "status": "completed"
    },
    "tags": []
   },
   "source": [
    "#### 1.2 checking the shape of dataset"
   ]
  },
  {
   "cell_type": "code",
   "execution_count": 4,
   "id": "f6f3f3ee",
   "metadata": {
    "papermill": {
     "duration": 0.108095,
     "end_time": "2022-05-16T06:08:37.091679",
     "exception": false,
     "start_time": "2022-05-16T06:08:36.983584",
     "status": "completed"
    },
    "tags": []
   },
   "outputs": [
    {
     "data": {
      "text/plain": [
       "(51717, 17)"
      ]
     },
     "execution_count": 4,
     "metadata": {},
     "output_type": "execute_result"
    }
   ],
   "source": [
    "data.shape"
   ]
  },
  {
   "cell_type": "markdown",
   "id": "a6f2bcee",
   "metadata": {
    "papermill": {
     "duration": 0.097338,
     "end_time": "2022-05-16T06:08:37.287868",
     "exception": false,
     "start_time": "2022-05-16T06:08:37.19053",
     "status": "completed"
    },
    "tags": []
   },
   "source": [
    "- there are total 51717 samples with 17 features."
   ]
  },
  {
   "cell_type": "code",
   "execution_count": 5,
   "id": "9e24e357",
   "metadata": {
    "execution": {
     "iopub.execute_input": "2022-05-16T06:08:37.486736Z",
     "iopub.status.busy": "2022-05-16T06:08:37.486441Z",
     "iopub.status.idle": "2022-05-16T06:08:37.492742Z",
     "shell.execute_reply": "2022-05-16T06:08:37.491937Z"
    },
    "papermill": {
     "duration": 0.108712,
     "end_time": "2022-05-16T06:08:37.494775",
     "exception": false,
     "start_time": "2022-05-16T06:08:37.386063",
     "status": "completed"
    },
    "tags": []
   },
   "outputs": [
    {
     "data": {
      "text/plain": [
       "Index(['url', 'address', 'name', 'online_order', 'book_table', 'rate', 'votes',\n",
       "       'phone', 'location', 'rest_type', 'dish_liked', 'cuisines',\n",
       "       'approx_cost(for two people)', 'reviews_list', 'menu_item',\n",
       "       'listed_in(type)', 'listed_in(city)'],\n",
       "      dtype='object')"
      ]
     },
     "execution_count": 5,
     "metadata": {},
     "output_type": "execute_result"
    }
   ],
   "source": [
    "data.columns"
   ]
  },
  {
   "cell_type": "markdown",
   "id": "d2d99300",
   "metadata": {
    "papermill": {
     "duration": 0.098351,
     "end_time": "2022-05-16T06:08:37.693923",
     "exception": false,
     "start_time": "2022-05-16T06:08:37.595572",
     "status": "completed"
    },
    "tags": []
   },
   "source": [
    "#### 1.3  checking the datatypes"
   ]
  },
  {
   "cell_type": "code",
   "execution_count": 6,
   "id": "970b2a15",
   "metadata": {
    "execution": {
     "iopub.execute_input": "2022-05-16T06:08:37.891447Z",
     "iopub.status.busy": "2022-05-16T06:08:37.890532Z",
     "iopub.status.idle": "2022-05-16T06:08:38.009485Z",
     "shell.execute_reply": "2022-05-16T06:08:38.008243Z"
    },
    "papermill": {
     "duration": 0.219935,
     "end_time": "2022-05-16T06:08:38.011728",
     "exception": false,
     "start_time": "2022-05-16T06:08:37.791793",
     "status": "completed"
    },
    "tags": []
   },
   "outputs": [
    {
     "name": "stdout",
     "output_type": "stream",
     "text": [
      "<class 'pandas.core.frame.DataFrame'>\n",
      "RangeIndex: 51717 entries, 0 to 51716\n",
      "Data columns (total 17 columns):\n",
      " #   Column                       Non-Null Count  Dtype \n",
      "---  ------                       --------------  ----- \n",
      " 0   url                          51717 non-null  object\n",
      " 1   address                      51717 non-null  object\n",
      " 2   name                         51717 non-null  object\n",
      " 3   online_order                 51717 non-null  object\n",
      " 4   book_table                   51717 non-null  object\n",
      " 5   rate                         43942 non-null  object\n",
      " 6   votes                        51717 non-null  int64 \n",
      " 7   phone                        50509 non-null  object\n",
      " 8   location                     51696 non-null  object\n",
      " 9   rest_type                    51490 non-null  object\n",
      " 10  dish_liked                   23639 non-null  object\n",
      " 11  cuisines                     51672 non-null  object\n",
      " 12  approx_cost(for two people)  51371 non-null  object\n",
      " 13  reviews_list                 51717 non-null  object\n",
      " 14  menu_item                    51717 non-null  object\n",
      " 15  listed_in(type)              51717 non-null  object\n",
      " 16  listed_in(city)              51717 non-null  object\n",
      "dtypes: int64(1), object(16)\n",
      "memory usage: 6.7+ MB\n"
     ]
    }
   ],
   "source": [
    "data.info()"
   ]
  },
  {
   "cell_type": "markdown",
   "id": "883dd70b",
   "metadata": {
    "papermill": {
     "duration": 0.099308,
     "end_time": "2022-05-16T06:08:38.211203",
     "exception": false,
     "start_time": "2022-05-16T06:08:38.111895",
     "status": "completed"
    },
    "tags": []
   },
   "source": [
    "- there are so many object type columns, we have to convert them into numeric type. letter we will convert oject dtype to numeric type"
   ]
  },
  {
   "cell_type": "markdown",
   "id": "4ddd7960",
   "metadata": {
    "papermill": {
     "duration": 0.09962,
     "end_time": "2022-05-16T06:08:38.40898",
     "exception": false,
     "start_time": "2022-05-16T06:08:38.30936",
     "status": "completed"
    },
    "tags": []
   },
   "source": [
    "## 2. Data Cleaning"
   ]
  },
  {
   "cell_type": "markdown",
   "id": "d63f8e5a",
   "metadata": {
    "papermill": {
     "duration": 0.097898,
     "end_time": "2022-05-16T06:08:38.606842",
     "exception": false,
     "start_time": "2022-05-16T06:08:38.508944",
     "status": "completed"
    },
    "tags": []
   },
   "source": [
    "#### 2.1 checking the missing values"
   ]
  },
  {
   "cell_type": "code",
   "execution_count": 7,
   "id": "033dffbe",
   "metadata": {
    "execution": {
     "iopub.execute_input": "2022-05-16T06:08:38.804261Z",
     "iopub.status.busy": "2022-05-16T06:08:38.803991Z",
     "iopub.status.idle": "2022-05-16T06:08:38.90456Z",
     "shell.execute_reply": "2022-05-16T06:08:38.903627Z"
    },
    "papermill": {
     "duration": 0.202164,
     "end_time": "2022-05-16T06:08:38.906838",
     "exception": false,
     "start_time": "2022-05-16T06:08:38.704674",
     "status": "completed"
    },
    "tags": []
   },
   "outputs": [
    {
     "data": {
      "text/plain": [
       "url                                0\n",
       "address                            0\n",
       "name                               0\n",
       "online_order                       0\n",
       "book_table                         0\n",
       "rate                            7775\n",
       "votes                              0\n",
       "phone                           1208\n",
       "location                          21\n",
       "rest_type                        227\n",
       "dish_liked                     28078\n",
       "cuisines                          45\n",
       "approx_cost(for two people)      346\n",
       "reviews_list                       0\n",
       "menu_item                          0\n",
       "listed_in(type)                    0\n",
       "listed_in(city)                    0\n",
       "dtype: int64"
      ]
     },
     "execution_count": 7,
     "metadata": {},
     "output_type": "execute_result"
    }
   ],
   "source": [
    "data.isnull().sum()"
   ]
  },
  {
   "cell_type": "markdown",
   "id": "945c9386",
   "metadata": {
    "papermill": {
     "duration": 0.098625,
     "end_time": "2022-05-16T06:08:39.106913",
     "exception": false,
     "start_time": "2022-05-16T06:08:39.008288",
     "status": "completed"
    },
    "tags": []
   },
   "source": [
    "- there are so many null values.we can clearly see that in the  '__rate__', '__phone__', '__location__', '__rest_type__', '__dish_liked__', '__cuisines__' and '__approx_cost(for two people)__' these columns have missing values.So  firstly we have to handle the missing values."
   ]
  },
  {
   "cell_type": "markdown",
   "id": "19f94e58",
   "metadata": {
    "papermill": {
     "duration": 0.098192,
     "end_time": "2022-05-16T06:08:39.304141",
     "exception": false,
     "start_time": "2022-05-16T06:08:39.205949",
     "status": "completed"
    },
    "tags": []
   },
   "source": [
    "#### 2.2  Removing the unnecessary columns form data"
   ]
  },
  {
   "cell_type": "code",
   "execution_count": 8,
   "id": "68d5d549",
   "metadata": {
    "execution": {
     "iopub.execute_input": "2022-05-16T06:08:39.504022Z",
     "iopub.status.busy": "2022-05-16T06:08:39.503745Z",
     "iopub.status.idle": "2022-05-16T06:08:39.51791Z",
     "shell.execute_reply": "2022-05-16T06:08:39.517137Z"
    },
    "papermill": {
     "duration": 0.116926,
     "end_time": "2022-05-16T06:08:39.519774",
     "exception": false,
     "start_time": "2022-05-16T06:08:39.402848",
     "status": "completed"
    },
    "tags": []
   },
   "outputs": [],
   "source": [
    "df = data.drop(['url', 'phone'], axis = 1) # dropped 'url' and 'phone' columns"
   ]
  },
  {
   "cell_type": "code",
   "execution_count": 9,
   "id": "46020025",
   "metadata": {
    "execution": {
     "iopub.execute_input": "2022-05-16T06:08:39.718371Z",
     "iopub.status.busy": "2022-05-16T06:08:39.717928Z",
     "iopub.status.idle": "2022-05-16T06:08:39.734285Z",
     "shell.execute_reply": "2022-05-16T06:08:39.733713Z"
    },
    "papermill": {
     "duration": 0.117813,
     "end_time": "2022-05-16T06:08:39.736112",
     "exception": false,
     "start_time": "2022-05-16T06:08:39.618299",
     "status": "completed"
    },
    "tags": []
   },
   "outputs": [
    {
     "data": {
      "text/html": [
       "<div>\n",
       "<style scoped>\n",
       "    .dataframe tbody tr th:only-of-type {\n",
       "        vertical-align: middle;\n",
       "    }\n",
       "\n",
       "    .dataframe tbody tr th {\n",
       "        vertical-align: top;\n",
       "    }\n",
       "\n",
       "    .dataframe thead th {\n",
       "        text-align: right;\n",
       "    }\n",
       "</style>\n",
       "<table border=\"1\" class=\"dataframe\">\n",
       "  <thead>\n",
       "    <tr style=\"text-align: right;\">\n",
       "      <th></th>\n",
       "      <th>address</th>\n",
       "      <th>name</th>\n",
       "      <th>online_order</th>\n",
       "      <th>book_table</th>\n",
       "      <th>rate</th>\n",
       "      <th>votes</th>\n",
       "      <th>location</th>\n",
       "      <th>rest_type</th>\n",
       "      <th>dish_liked</th>\n",
       "      <th>cuisines</th>\n",
       "      <th>approx_cost(for two people)</th>\n",
       "      <th>reviews_list</th>\n",
       "      <th>menu_item</th>\n",
       "      <th>listed_in(type)</th>\n",
       "      <th>listed_in(city)</th>\n",
       "    </tr>\n",
       "  </thead>\n",
       "  <tbody>\n",
       "    <tr>\n",
       "      <th>0</th>\n",
       "      <td>942, 21st Main Road, 2nd Stage, Banashankari, ...</td>\n",
       "      <td>Jalsa</td>\n",
       "      <td>Yes</td>\n",
       "      <td>Yes</td>\n",
       "      <td>4.1/5</td>\n",
       "      <td>775</td>\n",
       "      <td>Banashankari</td>\n",
       "      <td>Casual Dining</td>\n",
       "      <td>Pasta, Lunch Buffet, Masala Papad, Paneer Laja...</td>\n",
       "      <td>North Indian, Mughlai, Chinese</td>\n",
       "      <td>800</td>\n",
       "      <td>[('Rated 4.0', 'RATED\\n  A beautiful place to ...</td>\n",
       "      <td>[]</td>\n",
       "      <td>Buffet</td>\n",
       "      <td>Banashankari</td>\n",
       "    </tr>\n",
       "    <tr>\n",
       "      <th>1</th>\n",
       "      <td>2nd Floor, 80 Feet Road, Near Big Bazaar, 6th ...</td>\n",
       "      <td>Spice Elephant</td>\n",
       "      <td>Yes</td>\n",
       "      <td>No</td>\n",
       "      <td>4.1/5</td>\n",
       "      <td>787</td>\n",
       "      <td>Banashankari</td>\n",
       "      <td>Casual Dining</td>\n",
       "      <td>Momos, Lunch Buffet, Chocolate Nirvana, Thai G...</td>\n",
       "      <td>Chinese, North Indian, Thai</td>\n",
       "      <td>800</td>\n",
       "      <td>[('Rated 4.0', 'RATED\\n  Had been here for din...</td>\n",
       "      <td>[]</td>\n",
       "      <td>Buffet</td>\n",
       "      <td>Banashankari</td>\n",
       "    </tr>\n",
       "    <tr>\n",
       "      <th>2</th>\n",
       "      <td>1112, Next to KIMS Medical College, 17th Cross...</td>\n",
       "      <td>San Churro Cafe</td>\n",
       "      <td>Yes</td>\n",
       "      <td>No</td>\n",
       "      <td>3.8/5</td>\n",
       "      <td>918</td>\n",
       "      <td>Banashankari</td>\n",
       "      <td>Cafe, Casual Dining</td>\n",
       "      <td>Churros, Cannelloni, Minestrone Soup, Hot Choc...</td>\n",
       "      <td>Cafe, Mexican, Italian</td>\n",
       "      <td>800</td>\n",
       "      <td>[('Rated 3.0', \"RATED\\n  Ambience is not that ...</td>\n",
       "      <td>[]</td>\n",
       "      <td>Buffet</td>\n",
       "      <td>Banashankari</td>\n",
       "    </tr>\n",
       "    <tr>\n",
       "      <th>3</th>\n",
       "      <td>1st Floor, Annakuteera, 3rd Stage, Banashankar...</td>\n",
       "      <td>Addhuri Udupi Bhojana</td>\n",
       "      <td>No</td>\n",
       "      <td>No</td>\n",
       "      <td>3.7/5</td>\n",
       "      <td>88</td>\n",
       "      <td>Banashankari</td>\n",
       "      <td>Quick Bites</td>\n",
       "      <td>Masala Dosa</td>\n",
       "      <td>South Indian, North Indian</td>\n",
       "      <td>300</td>\n",
       "      <td>[('Rated 4.0', \"RATED\\n  Great food and proper...</td>\n",
       "      <td>[]</td>\n",
       "      <td>Buffet</td>\n",
       "      <td>Banashankari</td>\n",
       "    </tr>\n",
       "    <tr>\n",
       "      <th>4</th>\n",
       "      <td>10, 3rd Floor, Lakshmi Associates, Gandhi Baza...</td>\n",
       "      <td>Grand Village</td>\n",
       "      <td>No</td>\n",
       "      <td>No</td>\n",
       "      <td>3.8/5</td>\n",
       "      <td>166</td>\n",
       "      <td>Basavanagudi</td>\n",
       "      <td>Casual Dining</td>\n",
       "      <td>Panipuri, Gol Gappe</td>\n",
       "      <td>North Indian, Rajasthani</td>\n",
       "      <td>600</td>\n",
       "      <td>[('Rated 4.0', 'RATED\\n  Very good restaurant ...</td>\n",
       "      <td>[]</td>\n",
       "      <td>Buffet</td>\n",
       "      <td>Banashankari</td>\n",
       "    </tr>\n",
       "  </tbody>\n",
       "</table>\n",
       "</div>"
      ],
      "text/plain": [
       "                                             address                   name  \\\n",
       "0  942, 21st Main Road, 2nd Stage, Banashankari, ...                  Jalsa   \n",
       "1  2nd Floor, 80 Feet Road, Near Big Bazaar, 6th ...         Spice Elephant   \n",
       "2  1112, Next to KIMS Medical College, 17th Cross...        San Churro Cafe   \n",
       "3  1st Floor, Annakuteera, 3rd Stage, Banashankar...  Addhuri Udupi Bhojana   \n",
       "4  10, 3rd Floor, Lakshmi Associates, Gandhi Baza...          Grand Village   \n",
       "\n",
       "  online_order book_table   rate  votes      location            rest_type  \\\n",
       "0          Yes        Yes  4.1/5    775  Banashankari        Casual Dining   \n",
       "1          Yes         No  4.1/5    787  Banashankari        Casual Dining   \n",
       "2          Yes         No  3.8/5    918  Banashankari  Cafe, Casual Dining   \n",
       "3           No         No  3.7/5     88  Banashankari          Quick Bites   \n",
       "4           No         No  3.8/5    166  Basavanagudi        Casual Dining   \n",
       "\n",
       "                                          dish_liked  \\\n",
       "0  Pasta, Lunch Buffet, Masala Papad, Paneer Laja...   \n",
       "1  Momos, Lunch Buffet, Chocolate Nirvana, Thai G...   \n",
       "2  Churros, Cannelloni, Minestrone Soup, Hot Choc...   \n",
       "3                                        Masala Dosa   \n",
       "4                                Panipuri, Gol Gappe   \n",
       "\n",
       "                         cuisines approx_cost(for two people)  \\\n",
       "0  North Indian, Mughlai, Chinese                         800   \n",
       "1     Chinese, North Indian, Thai                         800   \n",
       "2          Cafe, Mexican, Italian                         800   \n",
       "3      South Indian, North Indian                         300   \n",
       "4        North Indian, Rajasthani                         600   \n",
       "\n",
       "                                        reviews_list menu_item  \\\n",
       "0  [('Rated 4.0', 'RATED\\n  A beautiful place to ...        []   \n",
       "1  [('Rated 4.0', 'RATED\\n  Had been here for din...        []   \n",
       "2  [('Rated 3.0', \"RATED\\n  Ambience is not that ...        []   \n",
       "3  [('Rated 4.0', \"RATED\\n  Great food and proper...        []   \n",
       "4  [('Rated 4.0', 'RATED\\n  Very good restaurant ...        []   \n",
       "\n",
       "  listed_in(type) listed_in(city)  \n",
       "0          Buffet    Banashankari  \n",
       "1          Buffet    Banashankari  \n",
       "2          Buffet    Banashankari  \n",
       "3          Buffet    Banashankari  \n",
       "4          Buffet    Banashankari  "
      ]
     },
     "execution_count": 9,
     "metadata": {},
     "output_type": "execute_result"
    }
   ],
   "source": [
    "df.head()"
   ]
  },
  {
   "cell_type": "markdown",
   "id": "39a8ea61",
   "metadata": {
    "papermill": {
     "duration": 0.09861,
     "end_time": "2022-05-16T06:08:39.933948",
     "exception": false,
     "start_time": "2022-05-16T06:08:39.835338",
     "status": "completed"
    },
    "tags": []
   },
   "source": [
    "#### 2.3 handling the null or missing values"
   ]
  },
  {
   "cell_type": "code",
   "execution_count": 10,
   "id": "c3fef3dc",
   "metadata": {
    "execution": {
     "iopub.execute_input": "2022-05-16T06:08:40.13967Z",
     "iopub.status.busy": "2022-05-16T06:08:40.13931Z",
     "iopub.status.idle": "2022-05-16T06:08:40.228995Z",
     "shell.execute_reply": "2022-05-16T06:08:40.228243Z"
    },
    "papermill": {
     "duration": 0.195023,
     "end_time": "2022-05-16T06:08:40.231237",
     "exception": false,
     "start_time": "2022-05-16T06:08:40.036214",
     "status": "completed"
    },
    "tags": []
   },
   "outputs": [],
   "source": [
    "df.dropna(inplace = True)"
   ]
  },
  {
   "cell_type": "code",
   "execution_count": 11,
   "id": "a3e54bbf",
   "metadata": {
    "execution": {
     "iopub.execute_input": "2022-05-16T06:08:40.433626Z",
     "iopub.status.busy": "2022-05-16T06:08:40.432912Z",
     "iopub.status.idle": "2022-05-16T06:08:40.479147Z",
     "shell.execute_reply": "2022-05-16T06:08:40.478541Z"
    },
    "papermill": {
     "duration": 0.150099,
     "end_time": "2022-05-16T06:08:40.480996",
     "exception": false,
     "start_time": "2022-05-16T06:08:40.330897",
     "status": "completed"
    },
    "tags": []
   },
   "outputs": [
    {
     "data": {
      "text/plain": [
       "address                        0\n",
       "name                           0\n",
       "online_order                   0\n",
       "book_table                     0\n",
       "rate                           0\n",
       "votes                          0\n",
       "location                       0\n",
       "rest_type                      0\n",
       "dish_liked                     0\n",
       "cuisines                       0\n",
       "approx_cost(for two people)    0\n",
       "reviews_list                   0\n",
       "menu_item                      0\n",
       "listed_in(type)                0\n",
       "listed_in(city)                0\n",
       "dtype: int64"
      ]
     },
     "execution_count": 11,
     "metadata": {},
     "output_type": "execute_result"
    }
   ],
   "source": [
    "df.isnull().sum()"
   ]
  },
  {
   "cell_type": "markdown",
   "id": "1cca4141",
   "metadata": {
    "papermill": {
     "duration": 0.098963,
     "end_time": "2022-05-16T06:08:40.679517",
     "exception": false,
     "start_time": "2022-05-16T06:08:40.580554",
     "status": "completed"
    },
    "tags": []
   },
   "source": [
    "- Now there is no null values"
   ]
  },
  {
   "cell_type": "markdown",
   "id": "c3ec98fe",
   "metadata": {
    "papermill": {
     "duration": 0.098616,
     "end_time": "2022-05-16T06:08:40.877299",
     "exception": false,
     "start_time": "2022-05-16T06:08:40.778683",
     "status": "completed"
    },
    "tags": []
   },
   "source": [
    "#### 2.4 checking the duplicates & handling the duplicates values"
   ]
  },
  {
   "cell_type": "code",
   "execution_count": 12,
   "id": "e2adc0e3",
   "metadata": {
    "execution": {
     "iopub.execute_input": "2022-05-16T06:08:41.08368Z",
     "iopub.status.busy": "2022-05-16T06:08:41.083233Z",
     "iopub.status.idle": "2022-05-16T06:08:42.819006Z",
     "shell.execute_reply": "2022-05-16T06:08:42.818009Z"
    },
    "papermill": {
     "duration": 1.841489,
     "end_time": "2022-05-16T06:08:42.821145",
     "exception": false,
     "start_time": "2022-05-16T06:08:40.979656",
     "status": "completed"
    },
    "tags": []
   },
   "outputs": [
    {
     "data": {
      "text/plain": [
       "11"
      ]
     },
     "execution_count": 12,
     "metadata": {},
     "output_type": "execute_result"
    }
   ],
   "source": [
    "df.duplicated().sum()"
   ]
  },
  {
   "cell_type": "code",
   "execution_count": 13,
   "id": "8fbda6d5",
   "metadata": {
    "execution": {
     "iopub.execute_input": "2022-05-16T06:08:43.044063Z",
     "iopub.status.busy": "2022-05-16T06:08:43.043617Z",
     "iopub.status.idle": "2022-05-16T06:08:45.294879Z",
     "shell.execute_reply": "2022-05-16T06:08:45.294076Z"
    },
    "papermill": {
     "duration": 2.36582,
     "end_time": "2022-05-16T06:08:45.297233",
     "exception": false,
     "start_time": "2022-05-16T06:08:42.931413",
     "status": "completed"
    },
    "tags": []
   },
   "outputs": [
    {
     "data": {
      "text/plain": [
       "0"
      ]
     },
     "execution_count": 13,
     "metadata": {},
     "output_type": "execute_result"
    }
   ],
   "source": [
    "df.drop_duplicates(inplace = True)\n",
    "df.duplicated().sum()"
   ]
  },
  {
   "cell_type": "markdown",
   "id": "45c22796",
   "metadata": {
    "papermill": {
     "duration": 0.105282,
     "end_time": "2022-05-16T06:08:45.504926",
     "exception": false,
     "start_time": "2022-05-16T06:08:45.399644",
     "status": "completed"
    },
    "tags": []
   },
   "source": [
    "- Now there are no duplicate values."
   ]
  },
  {
   "cell_type": "code",
   "execution_count": null,
   "id": "2a100bc5",
   "metadata": {
    "papermill": {
     "duration": 0.104579,
     "end_time": "2022-05-16T06:08:45.716721",
     "exception": false,
     "start_time": "2022-05-16T06:08:45.612142",
     "status": "completed"
    },
    "tags": []
   },
   "outputs": [],
   "source": []
  },
  {
   "cell_type": "markdown",
   "id": "756e5627",
   "metadata": {
    "papermill": {
     "duration": 0.099538,
     "end_time": "2022-05-16T06:08:45.917375",
     "exception": false,
     "start_time": "2022-05-16T06:08:45.817837",
     "status": "completed"
    },
    "tags": []
   },
   "source": [
    "#### 2.5 Renaming the columns appropriately"
   ]
  },
  {
   "cell_type": "code",
   "execution_count": 14,
   "id": "306f7153",
   "metadata": {
    "execution": {
     "iopub.execute_input": "2022-05-16T06:08:46.12068Z",
     "iopub.status.busy": "2022-05-16T06:08:46.120144Z",
     "iopub.status.idle": "2022-05-16T06:08:46.128401Z",
     "shell.execute_reply": "2022-05-16T06:08:46.12764Z"
    },
    "papermill": {
     "duration": 0.112801,
     "end_time": "2022-05-16T06:08:46.130513",
     "exception": false,
     "start_time": "2022-05-16T06:08:46.017712",
     "status": "completed"
    },
    "tags": []
   },
   "outputs": [],
   "source": [
    "df = df.rename(columns = {'approx_cost(for two people)':'cost',\n",
    "                         'listed_in(type)':'type', 'listed_in(city)': 'city'})"
   ]
  },
  {
   "cell_type": "code",
   "execution_count": 15,
   "id": "7fe2ac6e",
   "metadata": {
    "execution": {
     "iopub.execute_input": "2022-05-16T06:08:46.334017Z",
     "iopub.status.busy": "2022-05-16T06:08:46.333308Z",
     "iopub.status.idle": "2022-05-16T06:08:46.353607Z",
     "shell.execute_reply": "2022-05-16T06:08:46.352631Z"
    },
    "papermill": {
     "duration": 0.124543,
     "end_time": "2022-05-16T06:08:46.355575",
     "exception": false,
     "start_time": "2022-05-16T06:08:46.231032",
     "status": "completed"
    },
    "tags": []
   },
   "outputs": [
    {
     "data": {
      "text/html": [
       "<div>\n",
       "<style scoped>\n",
       "    .dataframe tbody tr th:only-of-type {\n",
       "        vertical-align: middle;\n",
       "    }\n",
       "\n",
       "    .dataframe tbody tr th {\n",
       "        vertical-align: top;\n",
       "    }\n",
       "\n",
       "    .dataframe thead th {\n",
       "        text-align: right;\n",
       "    }\n",
       "</style>\n",
       "<table border=\"1\" class=\"dataframe\">\n",
       "  <thead>\n",
       "    <tr style=\"text-align: right;\">\n",
       "      <th></th>\n",
       "      <th>address</th>\n",
       "      <th>name</th>\n",
       "      <th>online_order</th>\n",
       "      <th>book_table</th>\n",
       "      <th>rate</th>\n",
       "      <th>votes</th>\n",
       "      <th>location</th>\n",
       "      <th>rest_type</th>\n",
       "      <th>dish_liked</th>\n",
       "      <th>cuisines</th>\n",
       "      <th>cost</th>\n",
       "      <th>reviews_list</th>\n",
       "      <th>menu_item</th>\n",
       "      <th>type</th>\n",
       "      <th>city</th>\n",
       "    </tr>\n",
       "  </thead>\n",
       "  <tbody>\n",
       "    <tr>\n",
       "      <th>0</th>\n",
       "      <td>942, 21st Main Road, 2nd Stage, Banashankari, ...</td>\n",
       "      <td>Jalsa</td>\n",
       "      <td>Yes</td>\n",
       "      <td>Yes</td>\n",
       "      <td>4.1/5</td>\n",
       "      <td>775</td>\n",
       "      <td>Banashankari</td>\n",
       "      <td>Casual Dining</td>\n",
       "      <td>Pasta, Lunch Buffet, Masala Papad, Paneer Laja...</td>\n",
       "      <td>North Indian, Mughlai, Chinese</td>\n",
       "      <td>800</td>\n",
       "      <td>[('Rated 4.0', 'RATED\\n  A beautiful place to ...</td>\n",
       "      <td>[]</td>\n",
       "      <td>Buffet</td>\n",
       "      <td>Banashankari</td>\n",
       "    </tr>\n",
       "    <tr>\n",
       "      <th>1</th>\n",
       "      <td>2nd Floor, 80 Feet Road, Near Big Bazaar, 6th ...</td>\n",
       "      <td>Spice Elephant</td>\n",
       "      <td>Yes</td>\n",
       "      <td>No</td>\n",
       "      <td>4.1/5</td>\n",
       "      <td>787</td>\n",
       "      <td>Banashankari</td>\n",
       "      <td>Casual Dining</td>\n",
       "      <td>Momos, Lunch Buffet, Chocolate Nirvana, Thai G...</td>\n",
       "      <td>Chinese, North Indian, Thai</td>\n",
       "      <td>800</td>\n",
       "      <td>[('Rated 4.0', 'RATED\\n  Had been here for din...</td>\n",
       "      <td>[]</td>\n",
       "      <td>Buffet</td>\n",
       "      <td>Banashankari</td>\n",
       "    </tr>\n",
       "    <tr>\n",
       "      <th>2</th>\n",
       "      <td>1112, Next to KIMS Medical College, 17th Cross...</td>\n",
       "      <td>San Churro Cafe</td>\n",
       "      <td>Yes</td>\n",
       "      <td>No</td>\n",
       "      <td>3.8/5</td>\n",
       "      <td>918</td>\n",
       "      <td>Banashankari</td>\n",
       "      <td>Cafe, Casual Dining</td>\n",
       "      <td>Churros, Cannelloni, Minestrone Soup, Hot Choc...</td>\n",
       "      <td>Cafe, Mexican, Italian</td>\n",
       "      <td>800</td>\n",
       "      <td>[('Rated 3.0', \"RATED\\n  Ambience is not that ...</td>\n",
       "      <td>[]</td>\n",
       "      <td>Buffet</td>\n",
       "      <td>Banashankari</td>\n",
       "    </tr>\n",
       "    <tr>\n",
       "      <th>3</th>\n",
       "      <td>1st Floor, Annakuteera, 3rd Stage, Banashankar...</td>\n",
       "      <td>Addhuri Udupi Bhojana</td>\n",
       "      <td>No</td>\n",
       "      <td>No</td>\n",
       "      <td>3.7/5</td>\n",
       "      <td>88</td>\n",
       "      <td>Banashankari</td>\n",
       "      <td>Quick Bites</td>\n",
       "      <td>Masala Dosa</td>\n",
       "      <td>South Indian, North Indian</td>\n",
       "      <td>300</td>\n",
       "      <td>[('Rated 4.0', \"RATED\\n  Great food and proper...</td>\n",
       "      <td>[]</td>\n",
       "      <td>Buffet</td>\n",
       "      <td>Banashankari</td>\n",
       "    </tr>\n",
       "    <tr>\n",
       "      <th>4</th>\n",
       "      <td>10, 3rd Floor, Lakshmi Associates, Gandhi Baza...</td>\n",
       "      <td>Grand Village</td>\n",
       "      <td>No</td>\n",
       "      <td>No</td>\n",
       "      <td>3.8/5</td>\n",
       "      <td>166</td>\n",
       "      <td>Basavanagudi</td>\n",
       "      <td>Casual Dining</td>\n",
       "      <td>Panipuri, Gol Gappe</td>\n",
       "      <td>North Indian, Rajasthani</td>\n",
       "      <td>600</td>\n",
       "      <td>[('Rated 4.0', 'RATED\\n  Very good restaurant ...</td>\n",
       "      <td>[]</td>\n",
       "      <td>Buffet</td>\n",
       "      <td>Banashankari</td>\n",
       "    </tr>\n",
       "  </tbody>\n",
       "</table>\n",
       "</div>"
      ],
      "text/plain": [
       "                                             address                   name  \\\n",
       "0  942, 21st Main Road, 2nd Stage, Banashankari, ...                  Jalsa   \n",
       "1  2nd Floor, 80 Feet Road, Near Big Bazaar, 6th ...         Spice Elephant   \n",
       "2  1112, Next to KIMS Medical College, 17th Cross...        San Churro Cafe   \n",
       "3  1st Floor, Annakuteera, 3rd Stage, Banashankar...  Addhuri Udupi Bhojana   \n",
       "4  10, 3rd Floor, Lakshmi Associates, Gandhi Baza...          Grand Village   \n",
       "\n",
       "  online_order book_table   rate  votes      location            rest_type  \\\n",
       "0          Yes        Yes  4.1/5    775  Banashankari        Casual Dining   \n",
       "1          Yes         No  4.1/5    787  Banashankari        Casual Dining   \n",
       "2          Yes         No  3.8/5    918  Banashankari  Cafe, Casual Dining   \n",
       "3           No         No  3.7/5     88  Banashankari          Quick Bites   \n",
       "4           No         No  3.8/5    166  Basavanagudi        Casual Dining   \n",
       "\n",
       "                                          dish_liked  \\\n",
       "0  Pasta, Lunch Buffet, Masala Papad, Paneer Laja...   \n",
       "1  Momos, Lunch Buffet, Chocolate Nirvana, Thai G...   \n",
       "2  Churros, Cannelloni, Minestrone Soup, Hot Choc...   \n",
       "3                                        Masala Dosa   \n",
       "4                                Panipuri, Gol Gappe   \n",
       "\n",
       "                         cuisines cost  \\\n",
       "0  North Indian, Mughlai, Chinese  800   \n",
       "1     Chinese, North Indian, Thai  800   \n",
       "2          Cafe, Mexican, Italian  800   \n",
       "3      South Indian, North Indian  300   \n",
       "4        North Indian, Rajasthani  600   \n",
       "\n",
       "                                        reviews_list menu_item    type  \\\n",
       "0  [('Rated 4.0', 'RATED\\n  A beautiful place to ...        []  Buffet   \n",
       "1  [('Rated 4.0', 'RATED\\n  Had been here for din...        []  Buffet   \n",
       "2  [('Rated 3.0', \"RATED\\n  Ambience is not that ...        []  Buffet   \n",
       "3  [('Rated 4.0', \"RATED\\n  Great food and proper...        []  Buffet   \n",
       "4  [('Rated 4.0', 'RATED\\n  Very good restaurant ...        []  Buffet   \n",
       "\n",
       "           city  \n",
       "0  Banashankari  \n",
       "1  Banashankari  \n",
       "2  Banashankari  \n",
       "3  Banashankari  \n",
       "4  Banashankari  "
      ]
     },
     "execution_count": 15,
     "metadata": {},
     "output_type": "execute_result"
    }
   ],
   "source": [
    "df.head()"
   ]
  },
  {
   "cell_type": "markdown",
   "id": "57e8e8b4",
   "metadata": {
    "papermill": {
     "duration": 0.103892,
     "end_time": "2022-05-16T06:08:46.561517",
     "exception": false,
     "start_time": "2022-05-16T06:08:46.457625",
     "status": "completed"
    },
    "tags": []
   },
   "source": [
    "- Sucessfully rename the columns"
   ]
  },
  {
   "cell_type": "markdown",
   "id": "85ea9d11",
   "metadata": {
    "papermill": {
     "duration": 0.101382,
     "end_time": "2022-05-16T06:08:46.765532",
     "exception": false,
     "start_time": "2022-05-16T06:08:46.66415",
     "status": "completed"
    },
    "tags": []
   },
   "source": [
    "##### 2.6 cleaning the \"cost\" column"
   ]
  },
  {
   "cell_type": "code",
   "execution_count": 16,
   "id": "6082e5df",
   "metadata": {
    "execution": {
     "iopub.execute_input": "2022-05-16T06:08:46.975952Z",
     "iopub.status.busy": "2022-05-16T06:08:46.975651Z",
     "iopub.status.idle": "2022-05-16T06:08:46.98377Z",
     "shell.execute_reply": "2022-05-16T06:08:46.982832Z"
    },
    "papermill": {
     "duration": 0.114106,
     "end_time": "2022-05-16T06:08:46.985681",
     "exception": false,
     "start_time": "2022-05-16T06:08:46.871575",
     "status": "completed"
    },
    "tags": []
   },
   "outputs": [
    {
     "data": {
      "text/plain": [
       "array(['800', '300', '600', '700', '550', '500', '450', '650', '400',\n",
       "       '750', '200', '850', '1,200', '150', '350', '250', '1,500',\n",
       "       '1,300', '1,000', '100', '900', '1,100', '1,600', '950', '230',\n",
       "       '1,700', '1,400', '1,350', '2,200', '2,000', '1,800', '1,900',\n",
       "       '180', '330', '2,500', '2,100', '3,000', '2,800', '3,400', '40',\n",
       "       '1,250', '3,500', '4,000', '2,400', '1,450', '3,200', '6,000',\n",
       "       '1,050', '4,100', '2,300', '120', '2,600', '5,000', '3,700',\n",
       "       '1,650', '2,700', '4,500'], dtype=object)"
      ]
     },
     "execution_count": 16,
     "metadata": {},
     "output_type": "execute_result"
    }
   ],
   "source": [
    "df['cost'].unique()"
   ]
  },
  {
   "cell_type": "markdown",
   "id": "e68a8af1",
   "metadata": {
    "papermill": {
     "duration": 0.102919,
     "end_time": "2022-05-16T06:08:47.192014",
     "exception": false,
     "start_time": "2022-05-16T06:08:47.089095",
     "status": "completed"
    },
    "tags": []
   },
   "source": [
    "- here we can see that data point is string type and some values like 5,000 6,000   have comma(,). we have  to remove that ',' from the values and we have convert them into numeric type.\n"
   ]
  },
  {
   "cell_type": "code",
   "execution_count": 17,
   "id": "8f646e93",
   "metadata": {
    "execution": {
     "iopub.execute_input": "2022-05-16T06:08:47.400101Z",
     "iopub.status.busy": "2022-05-16T06:08:47.399571Z",
     "iopub.status.idle": "2022-05-16T06:08:47.424516Z",
     "shell.execute_reply": "2022-05-16T06:08:47.423903Z"
    },
    "papermill": {
     "duration": 0.13113,
     "end_time": "2022-05-16T06:08:47.426553",
     "exception": false,
     "start_time": "2022-05-16T06:08:47.295423",
     "status": "completed"
    },
    "tags": []
   },
   "outputs": [
    {
     "data": {
      "text/plain": [
       "array([ 800.,  300.,  600.,  700.,  550.,  500.,  450.,  650.,  400.,\n",
       "        750.,  200.,  850., 1200.,  150.,  350.,  250., 1500., 1300.,\n",
       "       1000.,  100.,  900., 1100., 1600.,  950.,  230., 1700., 1400.,\n",
       "       1350., 2200., 2000., 1800., 1900.,  180.,  330., 2500., 2100.,\n",
       "       3000., 2800., 3400.,   40., 1250., 3500., 4000., 2400., 1450.,\n",
       "       3200., 6000., 1050., 4100., 2300.,  120., 2600., 5000., 3700.,\n",
       "       1650., 2700., 4500.])"
      ]
     },
     "execution_count": 17,
     "metadata": {},
     "output_type": "execute_result"
    }
   ],
   "source": [
    "df['cost'] = df['cost'].apply(lambda x:x.replace(',', '')) # lo\n",
    "df['cost'] = df['cost'].astype(float)\n",
    "\n",
    "df['cost'].unique()"
   ]
  },
  {
   "cell_type": "markdown",
   "id": "6c919c1b",
   "metadata": {
    "papermill": {
     "duration": 0.1041,
     "end_time": "2022-05-16T06:08:47.634553",
     "exception": false,
     "start_time": "2022-05-16T06:08:47.530453",
     "status": "completed"
    },
    "tags": []
   },
   "source": [
    "- Now sucessfully we converted the values into numeric type"
   ]
  },
  {
   "cell_type": "markdown",
   "id": "5d747630",
   "metadata": {
    "papermill": {
     "duration": 0.104405,
     "end_time": "2022-05-16T06:08:47.842518",
     "exception": false,
     "start_time": "2022-05-16T06:08:47.738113",
     "status": "completed"
    },
    "tags": []
   },
   "source": [
    "#### 2.7 handling the rate columns"
   ]
  },
  {
   "cell_type": "code",
   "execution_count": 18,
   "id": "354d1371",
   "metadata": {
    "execution": {
     "iopub.execute_input": "2022-05-16T06:08:48.054288Z",
     "iopub.status.busy": "2022-05-16T06:08:48.053739Z",
     "iopub.status.idle": "2022-05-16T06:08:48.060976Z",
     "shell.execute_reply": "2022-05-16T06:08:48.060456Z"
    },
    "papermill": {
     "duration": 0.118112,
     "end_time": "2022-05-16T06:08:48.062733",
     "exception": false,
     "start_time": "2022-05-16T06:08:47.944621",
     "status": "completed"
    },
    "tags": []
   },
   "outputs": [
    {
     "data": {
      "text/plain": [
       "array(['4.1/5', '3.8/5', '3.7/5', '4.6/5', '4.0/5', '4.2/5', '3.9/5',\n",
       "       '3.0/5', '3.6/5', '2.8/5', '4.4/5', '3.1/5', '4.3/5', '2.6/5',\n",
       "       '3.3/5', '3.5/5', '3.8 /5', '3.2/5', '4.5/5', '2.5/5', '2.9/5',\n",
       "       '3.4/5', '2.7/5', '4.7/5', 'NEW', '2.4/5', '2.2/5', '2.3/5',\n",
       "       '4.8/5', '3.9 /5', '4.2 /5', '4.0 /5', '4.1 /5', '2.9 /5',\n",
       "       '2.7 /5', '2.5 /5', '2.6 /5', '4.5 /5', '4.3 /5', '3.7 /5',\n",
       "       '4.4 /5', '4.9/5', '2.1/5', '2.0/5', '1.8/5', '3.4 /5', '3.6 /5',\n",
       "       '3.3 /5', '4.6 /5', '4.9 /5', '3.2 /5', '3.0 /5', '2.8 /5',\n",
       "       '3.5 /5', '3.1 /5', '4.8 /5', '2.3 /5', '4.7 /5', '2.4 /5',\n",
       "       '2.1 /5', '2.2 /5', '2.0 /5', '1.8 /5'], dtype=object)"
      ]
     },
     "execution_count": 18,
     "metadata": {},
     "output_type": "execute_result"
    }
   ],
   "source": [
    "df['rate'].unique()"
   ]
  },
  {
   "cell_type": "markdown",
   "id": "e4361d38",
   "metadata": {
    "papermill": {
     "duration": 0.101658,
     "end_time": "2022-05-16T06:08:48.26704",
     "exception": false,
     "start_time": "2022-05-16T06:08:48.165382",
     "status": "completed"
    },
    "tags": []
   },
   "source": [
    "- here rating column also string type. we have to convert them into numeric type. we have to remove the '/5' form given values.\n",
    "there is 'NEW' value which make no sense. SO we have to remove that values."
   ]
  },
  {
   "cell_type": "code",
   "execution_count": 19,
   "id": "ff8106cf",
   "metadata": {
    "execution": {
     "iopub.execute_input": "2022-05-16T06:08:48.472949Z",
     "iopub.status.busy": "2022-05-16T06:08:48.472397Z",
     "iopub.status.idle": "2022-05-16T06:08:48.486676Z",
     "shell.execute_reply": "2022-05-16T06:08:48.485897Z"
    },
    "papermill": {
     "duration": 0.120009,
     "end_time": "2022-05-16T06:08:48.489043",
     "exception": false,
     "start_time": "2022-05-16T06:08:48.369034",
     "status": "completed"
    },
    "tags": []
   },
   "outputs": [],
   "source": [
    "df = df.loc[df.rate != 'NEW'] # geting rid of 'NEW'"
   ]
  },
  {
   "cell_type": "code",
   "execution_count": 20,
   "id": "15b8e92a",
   "metadata": {
    "execution": {
     "iopub.execute_input": "2022-05-16T06:08:48.700124Z",
     "iopub.status.busy": "2022-05-16T06:08:48.699223Z",
     "iopub.status.idle": "2022-05-16T06:08:48.707121Z",
     "shell.execute_reply": "2022-05-16T06:08:48.706512Z"
    },
    "papermill": {
     "duration": 0.115054,
     "end_time": "2022-05-16T06:08:48.708913",
     "exception": false,
     "start_time": "2022-05-16T06:08:48.593859",
     "status": "completed"
    },
    "tags": []
   },
   "outputs": [
    {
     "data": {
      "text/plain": [
       "array(['4.1/5', '3.8/5', '3.7/5', '4.6/5', '4.0/5', '4.2/5', '3.9/5',\n",
       "       '3.0/5', '3.6/5', '2.8/5', '4.4/5', '3.1/5', '4.3/5', '2.6/5',\n",
       "       '3.3/5', '3.5/5', '3.8 /5', '3.2/5', '4.5/5', '2.5/5', '2.9/5',\n",
       "       '3.4/5', '2.7/5', '4.7/5', '2.4/5', '2.2/5', '2.3/5', '4.8/5',\n",
       "       '3.9 /5', '4.2 /5', '4.0 /5', '4.1 /5', '2.9 /5', '2.7 /5',\n",
       "       '2.5 /5', '2.6 /5', '4.5 /5', '4.3 /5', '3.7 /5', '4.4 /5',\n",
       "       '4.9/5', '2.1/5', '2.0/5', '1.8/5', '3.4 /5', '3.6 /5', '3.3 /5',\n",
       "       '4.6 /5', '4.9 /5', '3.2 /5', '3.0 /5', '2.8 /5', '3.5 /5',\n",
       "       '3.1 /5', '4.8 /5', '2.3 /5', '4.7 /5', '2.4 /5', '2.1 /5',\n",
       "       '2.2 /5', '2.0 /5', '1.8 /5'], dtype=object)"
      ]
     },
     "execution_count": 20,
     "metadata": {},
     "output_type": "execute_result"
    }
   ],
   "source": [
    "df['rate'].unique()"
   ]
  },
  {
   "cell_type": "code",
   "execution_count": 21,
   "id": "42a13b05",
   "metadata": {
    "execution": {
     "iopub.execute_input": "2022-05-16T06:08:48.920112Z",
     "iopub.status.busy": "2022-05-16T06:08:48.919683Z",
     "iopub.status.idle": "2022-05-16T06:08:48.937995Z",
     "shell.execute_reply": "2022-05-16T06:08:48.937454Z"
    },
    "papermill": {
     "duration": 0.128148,
     "end_time": "2022-05-16T06:08:48.94012",
     "exception": false,
     "start_time": "2022-05-16T06:08:48.811972",
     "status": "completed"
    },
    "tags": []
   },
   "outputs": [
    {
     "data": {
      "text/plain": [
       "array(['4.1', '3.8', '3.7', '4.6', '4.0', '4.2', '3.9', '3.0', '3.6',\n",
       "       '2.8', '4.4', '3.1', '4.3', '2.6', '3.3', '3.5', '3.8 ', '3.2',\n",
       "       '4.5', '2.5', '2.9', '3.4', '2.7', '4.7', '2.4', '2.2', '2.3',\n",
       "       '4.8', '3.9 ', '4.2 ', '4.0 ', '4.1 ', '2.9 ', '2.7 ', '2.5 ',\n",
       "       '2.6 ', '4.5 ', '4.3 ', '3.7 ', '4.4 ', '4.9', '2.1', '2.0', '1.8',\n",
       "       '3.4 ', '3.6 ', '3.3 ', '4.6 ', '4.9 ', '3.2 ', '3.0 ', '2.8 ',\n",
       "       '3.5 ', '3.1 ', '4.8 ', '2.3 ', '4.7 ', '2.4 ', '2.1 ', '2.2 ',\n",
       "       '2.0 ', '1.8 '], dtype=object)"
      ]
     },
     "execution_count": 21,
     "metadata": {},
     "output_type": "execute_result"
    }
   ],
   "source": [
    "df['rate'] = df['rate'].apply(lambda x:x.replace('/5', ''))\n",
    "\n",
    "df['rate'].unique()"
   ]
  },
  {
   "cell_type": "code",
   "execution_count": 22,
   "id": "4499ba50",
   "metadata": {
    "execution": {
     "iopub.execute_input": "2022-05-16T06:08:49.153355Z",
     "iopub.status.busy": "2022-05-16T06:08:49.152054Z",
     "iopub.status.idle": "2022-05-16T06:08:49.178923Z",
     "shell.execute_reply": "2022-05-16T06:08:49.178395Z"
    },
    "papermill": {
     "duration": 0.135092,
     "end_time": "2022-05-16T06:08:49.18067",
     "exception": false,
     "start_time": "2022-05-16T06:08:49.045578",
     "status": "completed"
    },
    "tags": []
   },
   "outputs": [
    {
     "data": {
      "text/plain": [
       "0        4.1\n",
       "1        4.1\n",
       "2        3.8\n",
       "3        3.7\n",
       "4        3.8\n",
       "        ... \n",
       "51705    3.8\n",
       "51707    3.9\n",
       "51708    2.8\n",
       "51711    2.5\n",
       "51715    4.3\n",
       "Name: rate, Length: 23248, dtype: float64"
      ]
     },
     "execution_count": 22,
     "metadata": {},
     "output_type": "execute_result"
    }
   ],
   "source": [
    "df['rate'] = df['rate'].apply(lambda x: float(x))\n",
    "df['rate']"
   ]
  },
  {
   "cell_type": "markdown",
   "id": "988d2a87",
   "metadata": {
    "papermill": {
     "duration": 0.107243,
     "end_time": "2022-05-16T06:08:49.393135",
     "exception": false,
     "start_time": "2022-05-16T06:08:49.285892",
     "status": "completed"
    },
    "tags": []
   },
   "source": [
    "- Now our data is cleaned and we can perform visulization"
   ]
  },
  {
   "cell_type": "markdown",
   "id": "2bb6c5c8",
   "metadata": {
    "papermill": {
     "duration": 0.105601,
     "end_time": "2022-05-16T06:08:49.604672",
     "exception": false,
     "start_time": "2022-05-16T06:08:49.499071",
     "status": "completed"
    },
    "tags": []
   },
   "source": [
    "## 3. Data  Visulaization"
   ]
  },
  {
   "cell_type": "markdown",
   "id": "b3a1bc64",
   "metadata": {
    "papermill": {
     "duration": 0.103818,
     "end_time": "2022-05-16T06:08:49.812005",
     "exception": false,
     "start_time": "2022-05-16T06:08:49.708187",
     "status": "completed"
    },
    "tags": []
   },
   "source": [
    "#### 3.1 Most famous restaurant chains in banaglore"
   ]
  },
  {
   "cell_type": "code",
   "execution_count": 23,
   "id": "2aaf05a4",
   "metadata": {
    "execution": {
     "iopub.execute_input": "2022-05-16T06:08:50.025979Z",
     "iopub.status.busy": "2022-05-16T06:08:50.02487Z",
     "iopub.status.idle": "2022-05-16T06:08:50.367716Z",
     "shell.execute_reply": "2022-05-16T06:08:50.366851Z"
    },
    "papermill": {
     "duration": 0.451117,
     "end_time": "2022-05-16T06:08:50.37044",
     "exception": false,
     "start_time": "2022-05-16T06:08:49.919323",
     "status": "completed"
    },
    "tags": []
   },
   "outputs": [
    {
     "data": {
      "image/png": "[encoded data removed]",
      "text/plain": [
       "<Figure size 1224x720 with 1 Axes>"
      ]
     },
     "metadata": {
      "needs_background": "light"
     },
     "output_type": "display_data"
    }
   ],
   "source": [
    "plt.figure(figsize = (17,10))\n",
    "chains = df['name'].value_counts()[:20]\n",
    "sns.barplot(x = chains, y=  chains.index,  palette= 'deep')\n",
    "plt.title('Most famous restaurants chains in bangalore')\n",
    "plt.xlabel('Number of outlets')\n",
    "plt.show()"
   ]
  },
  {
   "cell_type": "markdown",
   "id": "4ee8bf62",
   "metadata": {
    "papermill": {
     "duration": 0.107704,
     "end_time": "2022-05-16T06:08:50.584223",
     "exception": false,
     "start_time": "2022-05-16T06:08:50.476519",
     "status": "completed"
    },
    "tags": []
   },
   "source": [
    "__Insights:__\n",
    "- __'Onesta'__, __'Empire Restaurant'__  & __'KFC'__ are the most famous restaurant in bangalore."
   ]
  },
  {
   "cell_type": "code",
   "execution_count": null,
   "id": "8c9fe63a",
   "metadata": {
    "papermill": {
     "duration": 0.105111,
     "end_time": "2022-05-16T06:08:50.794828",
     "exception": false,
     "start_time": "2022-05-16T06:08:50.689717",
     "status": "completed"
    },
    "tags": []
   },
   "outputs": [],
   "source": []
  },
  {
   "cell_type": "markdown",
   "id": "cb8fe482",
   "metadata": {
    "papermill": {
     "duration": 0.10654,
     "end_time": "2022-05-16T06:08:51.005776",
     "exception": false,
     "start_time": "2022-05-16T06:08:50.899236",
     "status": "completed"
    },
    "tags": []
   },
   "source": [
    "#### 3.2 checking  online order or not"
   ]
  },
  {
   "cell_type": "code",
   "execution_count": 24,
   "id": "c7cfcac0",
   "metadata": {
    "execution": {
     "iopub.execute_input": "2022-05-16T06:08:51.218623Z",
     "iopub.status.busy": "2022-05-16T06:08:51.218199Z",
     "iopub.status.idle": "2022-05-16T06:08:51.371681Z",
     "shell.execute_reply": "2022-05-16T06:08:51.37072Z"
    },
    "papermill": {
     "duration": 0.262029,
     "end_time": "2022-05-16T06:08:51.373869",
     "exception": false,
     "start_time": "2022-05-16T06:08:51.11184",
     "status": "completed"
    },
    "tags": []
   },
   "outputs": [
    {
     "data": {
      "image/png": "[encoded data removed]",
      "text/plain": [
       "<Figure size 720x432 with 1 Axes>"
      ]
     },
     "metadata": {},
     "output_type": "display_data"
    }
   ],
   "source": [
    "v = df['online_order'].value_counts()\n",
    "fig = plt.gcf()\n",
    "fig.set_size_inches((10,6))\n",
    "cmap = plt.get_cmap('Set3')\n",
    "color = cmap(np.arange(len(v)))\n",
    "\n",
    "plt.pie(v, labels = v.index, wedgeprops= dict(width = 0.6),autopct = '%0.02f', shadow = True, colors=  color)\n",
    "plt.title('Online orders', fontsize = 20)\n",
    "plt.show()\n"
   ]
  },
  {
   "cell_type": "markdown",
   "id": "a4584f21",
   "metadata": {
    "papermill": {
     "duration": 0.106574,
     "end_time": "2022-05-16T06:08:51.589243",
     "exception": false,
     "start_time": "2022-05-16T06:08:51.482669",
     "status": "completed"
    },
    "tags": []
   },
   "source": [
    "__Insight:__\n",
    "- Most Restaurants offer option for online order and delivery."
   ]
  },
  {
   "cell_type": "markdown",
   "id": "14167256",
   "metadata": {
    "papermill": {
     "duration": 0.108163,
     "end_time": "2022-05-16T06:08:51.803944",
     "exception": false,
     "start_time": "2022-05-16T06:08:51.695781",
     "status": "completed"
    },
    "tags": []
   },
   "source": [
    "#### 3.3 Book table or not"
   ]
  },
  {
   "cell_type": "code",
   "execution_count": 25,
   "id": "86b60cf4",
   "metadata": {
    "execution": {
     "iopub.execute_input": "2022-05-16T06:08:52.022759Z",
     "iopub.status.busy": "2022-05-16T06:08:52.022292Z",
     "iopub.status.idle": "2022-05-16T06:08:52.149017Z",
     "shell.execute_reply": "2022-05-16T06:08:52.148009Z"
    },
    "papermill": {
     "duration": 0.238742,
     "end_time": "2022-05-16T06:08:52.152193",
     "exception": false,
     "start_time": "2022-05-16T06:08:51.913451",
     "status": "completed"
    },
    "tags": []
   },
   "outputs": [
    {
     "data": {
      "image/png": "[encoded data removed]",
      "text/plain": [
       "<Figure size 576x432 with 1 Axes>"
      ]
     },
     "metadata": {},
     "output_type": "display_data"
    }
   ],
   "source": [
    "v = df['book_table'].value_counts()\n",
    "\n",
    "fig = plt.gcf()\n",
    "fig.set_size_inches((8,6))\n",
    "cmap = plt.get_cmap('Set1')\n",
    "color = cmap(np.arange(len(v)))\n",
    "\n",
    "plt.pie(v, labels = v.index, wedgeprops= dict(width = 0.6),autopct = '%0.02f', shadow = True, colors=  color)\n",
    "plt.title('Book Table', fontsize = 20)\n",
    "plt.show()\n"
   ]
  },
  {
   "cell_type": "markdown",
   "id": "6cbc1b48",
   "metadata": {
    "papermill": {
     "duration": 0.106585,
     "end_time": "2022-05-16T06:08:52.367426",
     "exception": false,
     "start_time": "2022-05-16T06:08:52.260841",
     "status": "completed"
    },
    "tags": []
   },
   "source": [
    "__Insight:__\n",
    "- Most of restaurants doesn't offer table booking."
   ]
  },
  {
   "cell_type": "markdown",
   "id": "cfa7e501",
   "metadata": {
    "papermill": {
     "duration": 0.107063,
     "end_time": "2022-05-16T06:08:52.582221",
     "exception": false,
     "start_time": "2022-05-16T06:08:52.475158",
     "status": "completed"
    },
    "tags": []
   },
   "source": [
    "#### 3.4 Rating Distribution"
   ]
  },
  {
   "cell_type": "code",
   "execution_count": 26,
   "id": "9aec0764",
   "metadata": {
    "execution": {
     "iopub.execute_input": "2022-05-16T06:08:52.79732Z",
     "iopub.status.busy": "2022-05-16T06:08:52.797055Z",
     "iopub.status.idle": "2022-05-16T06:08:53.288105Z",
     "shell.execute_reply": "2022-05-16T06:08:53.2874Z"
    },
    "papermill": {
     "duration": 0.601407,
     "end_time": "2022-05-16T06:08:53.290092",
     "exception": false,
     "start_time": "2022-05-16T06:08:52.688685",
     "status": "completed"
    },
    "tags": []
   },
   "outputs": [
    {
     "data": {
      "text/plain": [
       "Text(0.5, 1.0, 'Rating Distribution')"
      ]
     },
     "execution_count": 26,
     "metadata": {},
     "output_type": "execute_result"
    },
    {
     "data": {
      "image/png": "[encoded data removed]",
      "text/plain": [
       "<Figure size 648x504 with 1 Axes>"
      ]
     },
     "metadata": {
      "needs_background": "light"
     },
     "output_type": "display_data"
    }
   ],
   "source": [
    "plt.figure(figsize = (9,7))\n",
    "sns.distplot(df['rate'])\n",
    "plt.title('Rating Distribution')"
   ]
  },
  {
   "cell_type": "markdown",
   "id": "42710b05",
   "metadata": {
    "papermill": {
     "duration": 0.109642,
     "end_time": "2022-05-16T06:08:53.510764",
     "exception": false,
     "start_time": "2022-05-16T06:08:53.401122",
     "status": "completed"
    },
    "tags": []
   },
   "source": [
    "__Insight:__\n",
    "\n",
    "- We can infer from above that most of the ratings are within 3.5 and 4.5"
   ]
  },
  {
   "cell_type": "markdown",
   "id": "8b6751d4",
   "metadata": {
    "papermill": {
     "duration": 0.108725,
     "end_time": "2022-05-16T06:08:53.730366",
     "exception": false,
     "start_time": "2022-05-16T06:08:53.621641",
     "status": "completed"
    },
    "tags": []
   },
   "source": [
    "#### 3.5 Location"
   ]
  },
  {
   "cell_type": "code",
   "execution_count": 27,
   "id": "ec43eb8e",
   "metadata": {
    "execution": {
     "iopub.execute_input": "2022-05-16T06:08:53.951527Z",
     "iopub.status.busy": "2022-05-16T06:08:53.951213Z",
     "iopub.status.idle": "2022-05-16T06:08:55.673437Z",
     "shell.execute_reply": "2022-05-16T06:08:55.672781Z"
    },
    "papermill": {
     "duration": 1.836584,
     "end_time": "2022-05-16T06:08:55.676538",
     "exception": false,
     "start_time": "2022-05-16T06:08:53.839954",
     "status": "completed"
    },
    "tags": []
   },
   "outputs": [
    {
     "data": {
      "image/png": "[encoded data removed]",
      "text/plain": [
       "<Figure size 1440x2880 with 1 Axes>"
      ]
     },
     "metadata": {
      "needs_background": "light"
     },
     "output_type": "display_data"
    }
   ],
   "source": [
    "plt.figure(figsize=  (20,40))\n",
    "chains = df['location'].value_counts()#[:20]\n",
    "sns.barplot(x = chains, y=  chains.index,  palette= 'deep')\n",
    "plt.title('Loaction of restaurants in bangalore')\n",
    "plt.show()"
   ]
  },
  {
   "cell_type": "markdown",
   "id": "c56382b3",
   "metadata": {
    "papermill": {
     "duration": 0.112138,
     "end_time": "2022-05-16T06:08:55.903248",
     "exception": false,
     "start_time": "2022-05-16T06:08:55.79111",
     "status": "completed"
    },
    "tags": []
   },
   "source": [
    "__Insight:__\n",
    "- Here above we can see that most of the restaurants located in '__Koramangala 5th Block__', '__BTM__' & '__Indiranagar__'.\n",
    "- Then least restaurants are located  '__KR Puram__', '__Kanakapura__', '__Magadi Road__'."
   ]
  },
  {
   "cell_type": "markdown",
   "id": "abdfb630",
   "metadata": {
    "papermill": {
     "duration": 0.112064,
     "end_time": "2022-05-16T06:08:56.127564",
     "exception": false,
     "start_time": "2022-05-16T06:08:56.0155",
     "status": "completed"
    },
    "tags": []
   },
   "source": [
    "#### 3.6 Restaurant Type"
   ]
  },
  {
   "cell_type": "code",
   "execution_count": 28,
   "id": "9fdb84d1",
   "metadata": {
    "execution": {
     "iopub.execute_input": "2022-05-16T06:08:56.353771Z",
     "iopub.status.busy": "2022-05-16T06:08:56.353424Z",
     "iopub.status.idle": "2022-05-16T06:08:57.776837Z",
     "shell.execute_reply": "2022-05-16T06:08:57.775994Z"
    },
    "papermill": {
     "duration": 1.539682,
     "end_time": "2022-05-16T06:08:57.779674",
     "exception": false,
     "start_time": "2022-05-16T06:08:56.239992",
     "status": "completed"
    },
    "tags": []
   },
   "outputs": [
    {
     "data": {
      "image/png": "[encoded data removed]",
      "text/plain": [
       "<Figure size 1440x2880 with 1 Axes>"
      ]
     },
     "metadata": {
      "needs_background": "light"
     },
     "output_type": "display_data"
    }
   ],
   "source": [
    "plt.figure(figsize = (20,40))\n",
    "t = df['rest_type'].value_counts()\n",
    "sns.barplot(y = t.index ,x = t, palette = 'Paired')\n",
    "plt.title('Restaurant Type')\n",
    "plt.show()\n",
    "plt.show()"
   ]
  },
  {
   "cell_type": "markdown",
   "id": "d477fc1a",
   "metadata": {
    "papermill": {
     "duration": 0.121676,
     "end_time": "2022-05-16T06:08:58.018273",
     "exception": false,
     "start_time": "2022-05-16T06:08:57.896597",
     "status": "completed"
    },
    "tags": []
   },
   "source": [
    "__Insight:__\n",
    "\n",
    "- 'Casual Dining', 'Quick Bites', 'Cafe', 'Dessert Parlor' are the most common types of  restaurant.\n",
    "- 'Food Court, Casual Dining', 'Dhaba' are the least common. "
   ]
  },
  {
   "cell_type": "markdown",
   "id": "17b2a388",
   "metadata": {
    "papermill": {
     "duration": 0.115633,
     "end_time": "2022-05-16T06:08:58.251023",
     "exception": false,
     "start_time": "2022-05-16T06:08:58.13539",
     "status": "completed"
    },
    "tags": []
   },
   "source": [
    "#### 3.7 Most Liked Dishes"
   ]
  },
  {
   "cell_type": "code",
   "execution_count": 29,
   "id": "01c95056",
   "metadata": {
    "execution": {
     "iopub.execute_input": "2022-05-16T06:08:58.490073Z",
     "iopub.status.busy": "2022-05-16T06:08:58.489549Z",
     "iopub.status.idle": "2022-05-16T06:08:58.75722Z",
     "shell.execute_reply": "2022-05-16T06:08:58.756142Z"
    },
    "papermill": {
     "duration": 0.391188,
     "end_time": "2022-05-16T06:08:58.759744",
     "exception": false,
     "start_time": "2022-05-16T06:08:58.368556",
     "status": "completed"
    },
    "tags": []
   },
   "outputs": [],
   "source": [
    "import re\n",
    "\n",
    "df.index=range(df.shape[0])\n",
    "likes=[]\n",
    "for i in range(df.shape[0]):\n",
    "    array_split=re.split(',',df['dish_liked'][i])\n",
    "    for item in array_split:\n",
    "        likes.append(item)"
   ]
  },
  {
   "cell_type": "code",
   "execution_count": 30,
   "id": "f2c20f25",
   "metadata": {
    "execution": {
     "iopub.execute_input": "2022-05-16T06:08:59.001763Z",
     "iopub.status.busy": "2022-05-16T06:08:59.001303Z",
     "iopub.status.idle": "2022-05-16T06:08:59.045616Z",
     "shell.execute_reply": "2022-05-16T06:08:59.044814Z"
    },
    "papermill": {
     "duration": 0.166249,
     "end_time": "2022-05-16T06:08:59.047647",
     "exception": false,
     "start_time": "2022-05-16T06:08:58.881398",
     "status": "completed"
    },
    "tags": []
   },
   "outputs": [
    {
     "data": {
      "text/plain": [
       " Pasta              2692\n",
       " Pizza              1915\n",
       " Cocktails          1880\n",
       " Burgers            1736\n",
       " Mocktails          1623\n",
       " Biryani            1307\n",
       " Sandwiches         1287\n",
       "Burgers             1256\n",
       " Coffee             1184\n",
       " Nachos             1170\n",
       " Fish               1116\n",
       " Paratha            1107\n",
       " Salads             1055\n",
       " Chicken Biryani    1004\n",
       "Cocktails            891\n",
       " Fries               876\n",
       " Noodles             854\n",
       " Beer                835\n",
       " Mutton Biryani      832\n",
       " Tea                 819\n",
       "Coffee               801\n",
       " Sandwich            788\n",
       " Butter Chicken      782\n",
       " Thali               770\n",
       "Biryani              749\n",
       "Pizza                747\n",
       " Roti                729\n",
       " Brownie             726\n",
       " Salad               677\n",
       " Hot Chocolate       672\n",
       "dtype: int64"
      ]
     },
     "execution_count": 30,
     "metadata": {},
     "output_type": "execute_result"
    }
   ],
   "source": [
    "favourite_food = pd.Series(likes).value_counts()\n",
    "favourite_food.head(30)"
   ]
  },
  {
   "cell_type": "code",
   "execution_count": 31,
   "id": "98ae5527",
   "metadata": {
    "execution": {
     "iopub.execute_input": "2022-05-16T06:08:59.284726Z",
     "iopub.status.busy": "2022-05-16T06:08:59.28442Z",
     "iopub.status.idle": "2022-05-16T06:08:59.731799Z",
     "shell.execute_reply": "2022-05-16T06:08:59.731134Z"
    },
    "papermill": {
     "duration": 0.567943,
     "end_time": "2022-05-16T06:08:59.733939",
     "exception": false,
     "start_time": "2022-05-16T06:08:59.165996",
     "status": "completed"
    },
    "tags": []
   },
   "outputs": [
    {
     "data": {
      "image/png": "[encoded data removed]",
      "text/plain": [
       "<Figure size 1296x720 with 1 Axes>"
      ]
     },
     "metadata": {
      "needs_background": "light"
     },
     "output_type": "display_data"
    }
   ],
   "source": [
    "cmap = plt.get_cmap('Set3')\n",
    "color = cmap(np.arange(len(v)))\n",
    "\n",
    "ax = favourite_food.nlargest(n = 20, keep = 'first').plot(kind = 'bar', figsize = (18,10), title=  'Top 30 Favourite Food counts', color =  color)\n",
    "\n",
    "for i in ax.patches:\n",
    "    ax.annotate(str(i.get_height()), (i.get_x() * 1.005, i.get_height() * 1.005))\n",
    "    "
   ]
  },
  {
   "cell_type": "markdown",
   "id": "26dc0d59",
   "metadata": {
    "papermill": {
     "duration": 0.120009,
     "end_time": "2022-05-16T06:08:59.973952",
     "exception": false,
     "start_time": "2022-05-16T06:08:59.853943",
     "status": "completed"
    },
    "tags": []
   },
   "source": [
    "__Insights:__\n",
    "-  here form above we can see that __pasta__ & __Pizza__ most famous food in bangalore restaurants. "
   ]
  },
  {
   "cell_type": "markdown",
   "id": "ef8936ae",
   "metadata": {
    "papermill": {
     "duration": 0.118398,
     "end_time": "2022-05-16T06:09:00.21399",
     "exception": false,
     "start_time": "2022-05-16T06:09:00.095592",
     "status": "completed"
    },
    "tags": []
   },
   "source": [
    "#### 3.8 Most popular cuisines of Bangalore"
   ]
  },
  {
   "cell_type": "code",
   "execution_count": 32,
   "id": "f6b549f5",
   "metadata": {
    "execution": {
     "iopub.execute_input": "2022-05-16T06:09:00.451676Z",
     "iopub.status.busy": "2022-05-16T06:09:00.451145Z",
     "iopub.status.idle": "2022-05-16T06:09:00.833241Z",
     "shell.execute_reply": "2022-05-16T06:09:00.832071Z"
    },
    "papermill": {
     "duration": 0.503364,
     "end_time": "2022-05-16T06:09:00.835325",
     "exception": false,
     "start_time": "2022-05-16T06:09:00.331961",
     "status": "completed"
    },
    "tags": []
   },
   "outputs": [
    {
     "data": {
      "image/png": "[encoded data removed]",
      "text/plain": [
       "<Figure size 1440x576 with 1 Axes>"
      ]
     },
     "metadata": {
      "needs_background": "light"
     },
     "output_type": "display_data"
    }
   ],
   "source": [
    "v = df['cuisines'].value_counts()[:15]\n",
    "plt.figure(figsize = (20,8))\n",
    "\n",
    "ax  = sns.barplot(x = v.index, y = v, palette = 'Paired')\n",
    "\n",
    "for i in ax.patches:\n",
    "    ax.annotate(i.get_height().astype(int), (i.get_x()*1.005, i.get_height()*1.005))\n",
    "\n",
    "\n",
    "plt.title('Most popular cuisines of Bangalore', fontsize = 20)\n",
    "plt.xlabel('Cuisines', fontsize = 15)\n",
    "plt.ylabel('Frequency', fontsize = 15)\n",
    "plt.xticks(rotation =90)\n",
    "plt.show()\n"
   ]
  },
  {
   "cell_type": "markdown",
   "id": "c707316f",
   "metadata": {
    "papermill": {
     "duration": 0.121565,
     "end_time": "2022-05-16T06:09:01.080544",
     "exception": false,
     "start_time": "2022-05-16T06:09:00.958979",
     "status": "completed"
    },
    "tags": []
   },
   "source": [
    "__Insights:__\n",
    "-  Here form above we can see that North Indian  Cuisines are most famous in bangalore restaurants. "
   ]
  },
  {
   "cell_type": "markdown",
   "id": "2a12231c",
   "metadata": {
    "papermill": {
     "duration": 0.119476,
     "end_time": "2022-05-16T06:09:01.319677",
     "exception": false,
     "start_time": "2022-05-16T06:09:01.200201",
     "status": "completed"
    },
    "tags": []
   },
   "source": [
    "#### 3.9 Distribution of Cost of Food for two People"
   ]
  },
  {
   "cell_type": "markdown",
   "id": "804fc7ed",
   "metadata": {
    "papermill": {
     "duration": 0.119138,
     "end_time": "2022-05-16T06:09:01.558554",
     "exception": false,
     "start_time": "2022-05-16T06:09:01.439416",
     "status": "completed"
    },
    "tags": []
   },
   "source": [
    "- contains the approximate cost of meal for two people"
   ]
  },
  {
   "cell_type": "code",
   "execution_count": 33,
   "id": "d4538644",
   "metadata": {
    "execution": {
     "iopub.execute_input": "2022-05-16T06:09:01.800509Z",
     "iopub.status.busy": "2022-05-16T06:09:01.799965Z",
     "iopub.status.idle": "2022-05-16T06:09:02.268448Z",
     "shell.execute_reply": "2022-05-16T06:09:02.267792Z"
    },
    "papermill": {
     "duration": 0.592048,
     "end_time": "2022-05-16T06:09:02.270375",
     "exception": false,
     "start_time": "2022-05-16T06:09:01.678327",
     "status": "completed"
    },
    "tags": []
   },
   "outputs": [
    {
     "data": {
      "image/png": "[encoded data removed]",
      "text/plain": [
       "<Figure size 1440x576 with 1 Axes>"
      ]
     },
     "metadata": {
      "needs_background": "light"
     },
     "output_type": "display_data"
    }
   ],
   "source": [
    "plt.figure(figsize=(20,8))\n",
    "sns.distplot(df['cost'])\n",
    "plt.show()"
   ]
  },
  {
   "cell_type": "code",
   "execution_count": 34,
   "id": "8d60de85",
   "metadata": {
    "execution": {
     "iopub.execute_input": "2022-05-16T06:09:02.514781Z",
     "iopub.status.busy": "2022-05-16T06:09:02.514071Z",
     "iopub.status.idle": "2022-05-16T06:09:02.519631Z",
     "shell.execute_reply": "2022-05-16T06:09:02.518765Z"
    },
    "papermill": {
     "duration": 0.130046,
     "end_time": "2022-05-16T06:09:02.521564",
     "exception": false,
     "start_time": "2022-05-16T06:09:02.391518",
     "status": "completed"
    },
    "tags": []
   },
   "outputs": [
    {
     "data": {
      "text/plain": [
       "Index(['address', 'name', 'online_order', 'book_table', 'rate', 'votes',\n",
       "       'location', 'rest_type', 'dish_liked', 'cuisines', 'cost',\n",
       "       'reviews_list', 'menu_item', 'type', 'city'],\n",
       "      dtype='object')"
      ]
     },
     "execution_count": 34,
     "metadata": {},
     "output_type": "execute_result"
    }
   ],
   "source": [
    "df.columns"
   ]
  },
  {
   "cell_type": "code",
   "execution_count": 35,
   "id": "9d4cf1c7",
   "metadata": {
    "execution": {
     "iopub.execute_input": "2022-05-16T06:09:02.773268Z",
     "iopub.status.busy": "2022-05-16T06:09:02.772856Z",
     "iopub.status.idle": "2022-05-16T06:09:03.597459Z",
     "shell.execute_reply": "2022-05-16T06:09:03.596701Z"
    },
    "papermill": {
     "duration": 0.954044,
     "end_time": "2022-05-16T06:09:03.599661",
     "exception": false,
     "start_time": "2022-05-16T06:09:02.645617",
     "status": "completed"
    },
    "tags": []
   },
   "outputs": [
    {
     "data": {
      "image/png": "[encoded data removed]",
      "text/plain": [
       "<Figure size 1440x576 with 1 Axes>"
      ]
     },
     "metadata": {
      "needs_background": "light"
     },
     "output_type": "display_data"
    }
   ],
   "source": [
    "v = df['cost'].value_counts()\n",
    "plt.figure(figsize = (20,8))\n",
    "\n",
    "sns.barplot(x = v.index, y = v, palette = 'Paired')\n",
    "plt.xticks(rotation  =90)\n",
    "plt.show()"
   ]
  },
  {
   "cell_type": "markdown",
   "id": "36574e84",
   "metadata": {
    "papermill": {
     "duration": 0.12227,
     "end_time": "2022-05-16T06:09:03.845149",
     "exception": false,
     "start_time": "2022-05-16T06:09:03.722879",
     "status": "completed"
    },
    "tags": []
   },
   "source": [
    "__Insights:__\n",
    "-  Here form above we can that most common price for two person is __400__ in bangalore restaurants. "
   ]
  },
  {
   "cell_type": "markdown",
   "id": "1e108163",
   "metadata": {
    "papermill": {
     "duration": 0.148139,
     "end_time": "2022-05-16T06:09:04.123038",
     "exception": false,
     "start_time": "2022-05-16T06:09:03.974899",
     "status": "completed"
    },
    "tags": []
   },
   "source": [
    "#### 3.10 Services Types"
   ]
  },
  {
   "cell_type": "code",
   "execution_count": 36,
   "id": "1806c65d",
   "metadata": {
    "execution": {
     "iopub.execute_input": "2022-05-16T06:09:04.374019Z",
     "iopub.status.busy": "2022-05-16T06:09:04.373736Z",
     "iopub.status.idle": "2022-05-16T06:09:04.654352Z",
     "shell.execute_reply": "2022-05-16T06:09:04.653643Z"
    },
    "papermill": {
     "duration": 0.408857,
     "end_time": "2022-05-16T06:09:04.656169",
     "exception": false,
     "start_time": "2022-05-16T06:09:04.247312",
     "status": "completed"
    },
    "tags": []
   },
   "outputs": [
    {
     "data": {
      "image/png": "[encoded data removed]",
      "text/plain": [
       "<Figure size 864x864 with 1 Axes>"
      ]
     },
     "metadata": {
      "needs_background": "light"
     },
     "output_type": "display_data"
    }
   ],
   "source": [
    "#Types of Services\n",
    "\n",
    "ax  = sns.countplot(df['type']).set_xticklabels(sns.countplot(df['type']).get_xticklabels(), rotation=90, ha=\"right\")\n",
    "fig = plt.gcf()\n",
    "fig.set_size_inches(12,12)\n",
    "\n",
    "plt.title('Type of Service')\n",
    "plt.show()"
   ]
  },
  {
   "cell_type": "markdown",
   "id": "29a7f3ac",
   "metadata": {
    "papermill": {
     "duration": 0.124406,
     "end_time": "2022-05-16T06:09:04.904403",
     "exception": false,
     "start_time": "2022-05-16T06:09:04.779997",
     "status": "completed"
    },
    "tags": []
   },
   "source": [
    "__Insights:__\n",
    "-  Here the two main service types are __Delivery__ and __Dine-out__. "
   ]
  },
  {
   "cell_type": "markdown",
   "id": "0e26391e",
   "metadata": {
    "papermill": {
     "duration": 0.124795,
     "end_time": "2022-05-16T06:09:05.155858",
     "exception": false,
     "start_time": "2022-05-16T06:09:05.031063",
     "status": "completed"
    },
    "tags": []
   },
   "source": [
    "#### 3.11 Highest vote of restaurant"
   ]
  },
  {
   "cell_type": "code",
   "execution_count": 37,
   "id": "321e83fc",
   "metadata": {
    "execution": {
     "iopub.execute_input": "2022-05-16T06:09:05.408429Z",
     "iopub.status.busy": "2022-05-16T06:09:05.407982Z",
     "iopub.status.idle": "2022-05-16T06:09:05.925437Z",
     "shell.execute_reply": "2022-05-16T06:09:05.924556Z"
    },
    "papermill": {
     "duration": 0.647008,
     "end_time": "2022-05-16T06:09:05.927532",
     "exception": false,
     "start_time": "2022-05-16T06:09:05.280524",
     "status": "completed"
    },
    "tags": []
   },
   "outputs": [
    {
     "data": {
      "image/png": "[encoded data removed]",
      "text/plain": [
       "<Figure size 1440x720 with 1 Axes>"
      ]
     },
     "metadata": {
      "needs_background": "light"
     },
     "output_type": "display_data"
    }
   ],
   "source": [
    "name_grp = df.groupby('name')\n",
    "v = name_grp['votes'].agg(np.sum).sort_values(ascending = False)[:20]  ## Here i selected 20 restaurant based on high votes\n",
    "\n",
    "plt.figure(figsize = (20,10))\n",
    "ax = sns.barplot(y = v, x = v.index)\n",
    "\n",
    "for i in ax.patches:\n",
    "    ax.annotate(i.get_height().astype(int), (i.get_x()* 1.005, i.get_height()*1.005))\n",
    "\n",
    "\n",
    "plt.title('Highest vote of restaurant', fontsize = 20)\n",
    "plt.xlabel('Restaurant', fontsize = 15)\n",
    "plt.ylabel('Frequecy', fontsize = 15)\n",
    "plt.xticks(rotation =90)\n",
    "plt.show()"
   ]
  },
  {
   "cell_type": "markdown",
   "id": "2cc9c4dc",
   "metadata": {
    "papermill": {
     "duration": 0.12738,
     "end_time": "2022-05-16T06:09:06.185198",
     "exception": false,
     "start_time": "2022-05-16T06:09:06.057818",
     "status": "completed"
    },
    "tags": []
   },
   "source": [
    "__Insights:__\n",
    "- Here from the analysis, we can see that   __'Onesta'__, __'Truffles'__ & __'Empire Restaurant'__ are  highly voted restaurants. "
   ]
  },
  {
   "cell_type": "markdown",
   "id": "7b059164",
   "metadata": {
    "papermill": {
     "duration": 0.130008,
     "end_time": "2022-05-16T06:09:06.444567",
     "exception": false,
     "start_time": "2022-05-16T06:09:06.314559",
     "status": "completed"
    },
    "tags": []
   },
   "source": [
    "## 4. Data preparing"
   ]
  },
  {
   "cell_type": "code",
   "execution_count": 38,
   "id": "5cd6450d",
   "metadata": {
    "execution": {
     "iopub.execute_input": "2022-05-16T06:09:06.701989Z",
     "iopub.status.busy": "2022-05-16T06:09:06.701186Z",
     "iopub.status.idle": "2022-05-16T06:09:06.72052Z",
     "shell.execute_reply": "2022-05-16T06:09:06.719878Z"
    },
    "papermill": {
     "duration": 0.149629,
     "end_time": "2022-05-16T06:09:06.722518",
     "exception": false,
     "start_time": "2022-05-16T06:09:06.572889",
     "status": "completed"
    },
    "tags": []
   },
   "outputs": [
    {
     "data": {
      "text/html": [
       "<div>\n",
       "<style scoped>\n",
       "    .dataframe tbody tr th:only-of-type {\n",
       "        vertical-align: middle;\n",
       "    }\n",
       "\n",
       "    .dataframe tbody tr th {\n",
       "        vertical-align: top;\n",
       "    }\n",
       "\n",
       "    .dataframe thead th {\n",
       "        text-align: right;\n",
       "    }\n",
       "</style>\n",
       "<table border=\"1\" class=\"dataframe\">\n",
       "  <thead>\n",
       "    <tr style=\"text-align: right;\">\n",
       "      <th></th>\n",
       "      <th>address</th>\n",
       "      <th>name</th>\n",
       "      <th>online_order</th>\n",
       "      <th>book_table</th>\n",
       "      <th>rate</th>\n",
       "      <th>votes</th>\n",
       "      <th>location</th>\n",
       "      <th>rest_type</th>\n",
       "      <th>dish_liked</th>\n",
       "      <th>cuisines</th>\n",
       "      <th>cost</th>\n",
       "      <th>reviews_list</th>\n",
       "      <th>menu_item</th>\n",
       "      <th>type</th>\n",
       "      <th>city</th>\n",
       "    </tr>\n",
       "  </thead>\n",
       "  <tbody>\n",
       "    <tr>\n",
       "      <th>0</th>\n",
       "      <td>942, 21st Main Road, 2nd Stage, Banashankari, ...</td>\n",
       "      <td>Jalsa</td>\n",
       "      <td>Yes</td>\n",
       "      <td>Yes</td>\n",
       "      <td>4.1</td>\n",
       "      <td>775</td>\n",
       "      <td>Banashankari</td>\n",
       "      <td>Casual Dining</td>\n",
       "      <td>Pasta, Lunch Buffet, Masala Papad, Paneer Laja...</td>\n",
       "      <td>North Indian, Mughlai, Chinese</td>\n",
       "      <td>800.0</td>\n",
       "      <td>[('Rated 4.0', 'RATED\\n  A beautiful place to ...</td>\n",
       "      <td>[]</td>\n",
       "      <td>Buffet</td>\n",
       "      <td>Banashankari</td>\n",
       "    </tr>\n",
       "    <tr>\n",
       "      <th>1</th>\n",
       "      <td>2nd Floor, 80 Feet Road, Near Big Bazaar, 6th ...</td>\n",
       "      <td>Spice Elephant</td>\n",
       "      <td>Yes</td>\n",
       "      <td>No</td>\n",
       "      <td>4.1</td>\n",
       "      <td>787</td>\n",
       "      <td>Banashankari</td>\n",
       "      <td>Casual Dining</td>\n",
       "      <td>Momos, Lunch Buffet, Chocolate Nirvana, Thai G...</td>\n",
       "      <td>Chinese, North Indian, Thai</td>\n",
       "      <td>800.0</td>\n",
       "      <td>[('Rated 4.0', 'RATED\\n  Had been here for din...</td>\n",
       "      <td>[]</td>\n",
       "      <td>Buffet</td>\n",
       "      <td>Banashankari</td>\n",
       "    </tr>\n",
       "    <tr>\n",
       "      <th>2</th>\n",
       "      <td>1112, Next to KIMS Medical College, 17th Cross...</td>\n",
       "      <td>San Churro Cafe</td>\n",
       "      <td>Yes</td>\n",
       "      <td>No</td>\n",
       "      <td>3.8</td>\n",
       "      <td>918</td>\n",
       "      <td>Banashankari</td>\n",
       "      <td>Cafe, Casual Dining</td>\n",
       "      <td>Churros, Cannelloni, Minestrone Soup, Hot Choc...</td>\n",
       "      <td>Cafe, Mexican, Italian</td>\n",
       "      <td>800.0</td>\n",
       "      <td>[('Rated 3.0', \"RATED\\n  Ambience is not that ...</td>\n",
       "      <td>[]</td>\n",
       "      <td>Buffet</td>\n",
       "      <td>Banashankari</td>\n",
       "    </tr>\n",
       "    <tr>\n",
       "      <th>3</th>\n",
       "      <td>1st Floor, Annakuteera, 3rd Stage, Banashankar...</td>\n",
       "      <td>Addhuri Udupi Bhojana</td>\n",
       "      <td>No</td>\n",
       "      <td>No</td>\n",
       "      <td>3.7</td>\n",
       "      <td>88</td>\n",
       "      <td>Banashankari</td>\n",
       "      <td>Quick Bites</td>\n",
       "      <td>Masala Dosa</td>\n",
       "      <td>South Indian, North Indian</td>\n",
       "      <td>300.0</td>\n",
       "      <td>[('Rated 4.0', \"RATED\\n  Great food and proper...</td>\n",
       "      <td>[]</td>\n",
       "      <td>Buffet</td>\n",
       "      <td>Banashankari</td>\n",
       "    </tr>\n",
       "    <tr>\n",
       "      <th>4</th>\n",
       "      <td>10, 3rd Floor, Lakshmi Associates, Gandhi Baza...</td>\n",
       "      <td>Grand Village</td>\n",
       "      <td>No</td>\n",
       "      <td>No</td>\n",
       "      <td>3.8</td>\n",
       "      <td>166</td>\n",
       "      <td>Basavanagudi</td>\n",
       "      <td>Casual Dining</td>\n",
       "      <td>Panipuri, Gol Gappe</td>\n",
       "      <td>North Indian, Rajasthani</td>\n",
       "      <td>600.0</td>\n",
       "      <td>[('Rated 4.0', 'RATED\\n  Very good restaurant ...</td>\n",
       "      <td>[]</td>\n",
       "      <td>Buffet</td>\n",
       "      <td>Banashankari</td>\n",
       "    </tr>\n",
       "  </tbody>\n",
       "</table>\n",
       "</div>"
      ],
      "text/plain": [
       "                                             address                   name  \\\n",
       "0  942, 21st Main Road, 2nd Stage, Banashankari, ...                  Jalsa   \n",
       "1  2nd Floor, 80 Feet Road, Near Big Bazaar, 6th ...         Spice Elephant   \n",
       "2  1112, Next to KIMS Medical College, 17th Cross...        San Churro Cafe   \n",
       "3  1st Floor, Annakuteera, 3rd Stage, Banashankar...  Addhuri Udupi Bhojana   \n",
       "4  10, 3rd Floor, Lakshmi Associates, Gandhi Baza...          Grand Village   \n",
       "\n",
       "  online_order book_table  rate  votes      location            rest_type  \\\n",
       "0          Yes        Yes   4.1    775  Banashankari        Casual Dining   \n",
       "1          Yes         No   4.1    787  Banashankari        Casual Dining   \n",
       "2          Yes         No   3.8    918  Banashankari  Cafe, Casual Dining   \n",
       "3           No         No   3.7     88  Banashankari          Quick Bites   \n",
       "4           No         No   3.8    166  Basavanagudi        Casual Dining   \n",
       "\n",
       "                                          dish_liked  \\\n",
       "0  Pasta, Lunch Buffet, Masala Papad, Paneer Laja...   \n",
       "1  Momos, Lunch Buffet, Chocolate Nirvana, Thai G...   \n",
       "2  Churros, Cannelloni, Minestrone Soup, Hot Choc...   \n",
       "3                                        Masala Dosa   \n",
       "4                                Panipuri, Gol Gappe   \n",
       "\n",
       "                         cuisines   cost  \\\n",
       "0  North Indian, Mughlai, Chinese  800.0   \n",
       "1     Chinese, North Indian, Thai  800.0   \n",
       "2          Cafe, Mexican, Italian  800.0   \n",
       "3      South Indian, North Indian  300.0   \n",
       "4        North Indian, Rajasthani  600.0   \n",
       "\n",
       "                                        reviews_list menu_item    type  \\\n",
       "0  [('Rated 4.0', 'RATED\\n  A beautiful place to ...        []  Buffet   \n",
       "1  [('Rated 4.0', 'RATED\\n  Had been here for din...        []  Buffet   \n",
       "2  [('Rated 3.0', \"RATED\\n  Ambience is not that ...        []  Buffet   \n",
       "3  [('Rated 4.0', \"RATED\\n  Great food and proper...        []  Buffet   \n",
       "4  [('Rated 4.0', 'RATED\\n  Very good restaurant ...        []  Buffet   \n",
       "\n",
       "           city  \n",
       "0  Banashankari  \n",
       "1  Banashankari  \n",
       "2  Banashankari  \n",
       "3  Banashankari  \n",
       "4  Banashankari  "
      ]
     },
     "execution_count": 38,
     "metadata": {},
     "output_type": "execute_result"
    }
   ],
   "source": [
    "df.head()"
   ]
  },
  {
   "cell_type": "markdown",
   "id": "349de7d2",
   "metadata": {
    "papermill": {
     "duration": 0.126976,
     "end_time": "2022-05-16T06:09:06.976245",
     "exception": false,
     "start_time": "2022-05-16T06:09:06.849269",
     "status": "completed"
    },
    "tags": []
   },
   "source": [
    "#### 4.1 Convert the online categorical variables into a numeric format"
   ]
  },
  {
   "cell_type": "code",
   "execution_count": 39,
   "id": "8f26346d",
   "metadata": {
    "execution": {
     "iopub.execute_input": "2022-05-16T06:09:07.234036Z",
     "iopub.status.busy": "2022-05-16T06:09:07.2335Z",
     "iopub.status.idle": "2022-05-16T06:09:07.250977Z",
     "shell.execute_reply": "2022-05-16T06:09:07.250164Z"
    },
    "papermill": {
     "duration": 0.148225,
     "end_time": "2022-05-16T06:09:07.253113",
     "exception": false,
     "start_time": "2022-05-16T06:09:07.104888",
     "status": "completed"
    },
    "tags": []
   },
   "outputs": [],
   "source": [
    "df.online_order[df.online_order == 'Yes'] = 1\n",
    "df.online_order[df.online_order == 'No'] =  0"
   ]
  },
  {
   "cell_type": "code",
   "execution_count": 40,
   "id": "45af1e54",
   "metadata": {
    "execution": {
     "iopub.execute_input": "2022-05-16T06:09:07.514007Z",
     "iopub.status.busy": "2022-05-16T06:09:07.513504Z",
     "iopub.status.idle": "2022-05-16T06:09:07.522752Z",
     "shell.execute_reply": "2022-05-16T06:09:07.521967Z"
    },
    "papermill": {
     "duration": 0.141224,
     "end_time": "2022-05-16T06:09:07.524711",
     "exception": false,
     "start_time": "2022-05-16T06:09:07.383487",
     "status": "completed"
    },
    "tags": []
   },
   "outputs": [
    {
     "data": {
      "text/plain": [
       "1    16378\n",
       "0     6870\n",
       "Name: online_order, dtype: int64"
      ]
     },
     "execution_count": 40,
     "metadata": {},
     "output_type": "execute_result"
    }
   ],
   "source": [
    "df.online_order.value_counts()"
   ]
  },
  {
   "cell_type": "markdown",
   "id": "df5a6d17",
   "metadata": {
    "papermill": {
     "duration": 0.12762,
     "end_time": "2022-05-16T06:09:07.781127",
     "exception": false,
     "start_time": "2022-05-16T06:09:07.653507",
     "status": "completed"
    },
    "tags": []
   },
   "source": [
    "#### 4.2 Label Encoding"
   ]
  },
  {
   "cell_type": "code",
   "execution_count": 41,
   "id": "ff5294fd",
   "metadata": {
    "execution": {
     "iopub.execute_input": "2022-05-16T06:09:08.039928Z",
     "iopub.status.busy": "2022-05-16T06:09:08.039652Z",
     "iopub.status.idle": "2022-05-16T06:09:08.252595Z",
     "shell.execute_reply": "2022-05-16T06:09:08.251703Z"
    },
    "papermill": {
     "duration": 0.346872,
     "end_time": "2022-05-16T06:09:08.255014",
     "exception": false,
     "start_time": "2022-05-16T06:09:07.908142",
     "status": "completed"
    },
    "tags": []
   },
   "outputs": [],
   "source": [
    "from sklearn.preprocessing import LabelEncoder\n",
    "le = LabelEncoder()\n",
    "df.location = le.fit_transform(df.location)\n",
    "df.rest_type = le.fit_transform(df.rest_type)\n",
    "df.cuisines = le.fit_transform(df.cuisines)\n",
    "df.menu_item = le.fit_transform(df.menu_item)\n",
    "\n",
    "df.book_table = le.fit_transform(df.book_table)"
   ]
  },
  {
   "cell_type": "code",
   "execution_count": 42,
   "id": "0d0eeeda",
   "metadata": {
    "execution": {
     "iopub.execute_input": "2022-05-16T06:09:08.515856Z",
     "iopub.status.busy": "2022-05-16T06:09:08.515138Z",
     "iopub.status.idle": "2022-05-16T06:09:08.531222Z",
     "shell.execute_reply": "2022-05-16T06:09:08.530639Z"
    },
    "papermill": {
     "duration": 0.147055,
     "end_time": "2022-05-16T06:09:08.532955",
     "exception": false,
     "start_time": "2022-05-16T06:09:08.3859",
     "status": "completed"
    },
    "tags": []
   },
   "outputs": [
    {
     "data": {
      "text/html": [
       "<div>\n",
       "<style scoped>\n",
       "    .dataframe tbody tr th:only-of-type {\n",
       "        vertical-align: middle;\n",
       "    }\n",
       "\n",
       "    .dataframe tbody tr th {\n",
       "        vertical-align: top;\n",
       "    }\n",
       "\n",
       "    .dataframe thead th {\n",
       "        text-align: right;\n",
       "    }\n",
       "</style>\n",
       "<table border=\"1\" class=\"dataframe\">\n",
       "  <thead>\n",
       "    <tr style=\"text-align: right;\">\n",
       "      <th></th>\n",
       "      <th>address</th>\n",
       "      <th>name</th>\n",
       "      <th>online_order</th>\n",
       "      <th>book_table</th>\n",
       "      <th>rate</th>\n",
       "      <th>votes</th>\n",
       "      <th>location</th>\n",
       "      <th>rest_type</th>\n",
       "      <th>dish_liked</th>\n",
       "      <th>cuisines</th>\n",
       "      <th>cost</th>\n",
       "      <th>reviews_list</th>\n",
       "      <th>menu_item</th>\n",
       "      <th>type</th>\n",
       "      <th>city</th>\n",
       "    </tr>\n",
       "  </thead>\n",
       "  <tbody>\n",
       "    <tr>\n",
       "      <th>0</th>\n",
       "      <td>942, 21st Main Road, 2nd Stage, Banashankari, ...</td>\n",
       "      <td>Jalsa</td>\n",
       "      <td>1</td>\n",
       "      <td>1</td>\n",
       "      <td>4.1</td>\n",
       "      <td>775</td>\n",
       "      <td>1</td>\n",
       "      <td>20</td>\n",
       "      <td>Pasta, Lunch Buffet, Masala Papad, Paneer Laja...</td>\n",
       "      <td>1386</td>\n",
       "      <td>800.0</td>\n",
       "      <td>[('Rated 4.0', 'RATED\\n  A beautiful place to ...</td>\n",
       "      <td>5047</td>\n",
       "      <td>Buffet</td>\n",
       "      <td>Banashankari</td>\n",
       "    </tr>\n",
       "    <tr>\n",
       "      <th>1</th>\n",
       "      <td>2nd Floor, 80 Feet Road, Near Big Bazaar, 6th ...</td>\n",
       "      <td>Spice Elephant</td>\n",
       "      <td>1</td>\n",
       "      <td>0</td>\n",
       "      <td>4.1</td>\n",
       "      <td>787</td>\n",
       "      <td>1</td>\n",
       "      <td>20</td>\n",
       "      <td>Momos, Lunch Buffet, Chocolate Nirvana, Thai G...</td>\n",
       "      <td>594</td>\n",
       "      <td>800.0</td>\n",
       "      <td>[('Rated 4.0', 'RATED\\n  Had been here for din...</td>\n",
       "      <td>5047</td>\n",
       "      <td>Buffet</td>\n",
       "      <td>Banashankari</td>\n",
       "    </tr>\n",
       "  </tbody>\n",
       "</table>\n",
       "</div>"
      ],
      "text/plain": [
       "                                             address            name  \\\n",
       "0  942, 21st Main Road, 2nd Stage, Banashankari, ...           Jalsa   \n",
       "1  2nd Floor, 80 Feet Road, Near Big Bazaar, 6th ...  Spice Elephant   \n",
       "\n",
       "  online_order  book_table  rate  votes  location  rest_type  \\\n",
       "0            1           1   4.1    775         1         20   \n",
       "1            1           0   4.1    787         1         20   \n",
       "\n",
       "                                          dish_liked  cuisines   cost  \\\n",
       "0  Pasta, Lunch Buffet, Masala Papad, Paneer Laja...      1386  800.0   \n",
       "1  Momos, Lunch Buffet, Chocolate Nirvana, Thai G...       594  800.0   \n",
       "\n",
       "                                        reviews_list  menu_item    type  \\\n",
       "0  [('Rated 4.0', 'RATED\\n  A beautiful place to ...       5047  Buffet   \n",
       "1  [('Rated 4.0', 'RATED\\n  Had been here for din...       5047  Buffet   \n",
       "\n",
       "           city  \n",
       "0  Banashankari  \n",
       "1  Banashankari  "
      ]
     },
     "execution_count": 42,
     "metadata": {},
     "output_type": "execute_result"
    }
   ],
   "source": [
    "df.head(n=2)"
   ]
  },
  {
   "cell_type": "code",
   "execution_count": 43,
   "id": "8dbd8993",
   "metadata": {
    "execution": {
     "iopub.execute_input": "2022-05-16T06:09:08.792134Z",
     "iopub.status.busy": "2022-05-16T06:09:08.791445Z",
     "iopub.status.idle": "2022-05-16T06:09:08.930999Z",
     "shell.execute_reply": "2022-05-16T06:09:08.930216Z"
    },
    "papermill": {
     "duration": 0.271886,
     "end_time": "2022-05-16T06:09:08.933225",
     "exception": false,
     "start_time": "2022-05-16T06:09:08.661339",
     "status": "completed"
    },
    "tags": []
   },
   "outputs": [],
   "source": [
    "my_data = df.iloc[:,[2,3,4,5,6,7,9,10,12]]\n",
    "\n",
    "my_data.to_csv('Zomato_df.csv')"
   ]
  },
  {
   "cell_type": "code",
   "execution_count": 44,
   "id": "b3b2d546",
   "metadata": {
    "execution": {
     "iopub.execute_input": "2022-05-16T06:09:09.194588Z",
     "iopub.status.busy": "2022-05-16T06:09:09.194052Z",
     "iopub.status.idle": "2022-05-16T06:09:09.206358Z",
     "shell.execute_reply": "2022-05-16T06:09:09.205803Z"
    },
    "papermill": {
     "duration": 0.144674,
     "end_time": "2022-05-16T06:09:09.208348",
     "exception": false,
     "start_time": "2022-05-16T06:09:09.063674",
     "status": "completed"
    },
    "tags": []
   },
   "outputs": [
    {
     "data": {
      "text/html": [
       "<div>\n",
       "<style scoped>\n",
       "    .dataframe tbody tr th:only-of-type {\n",
       "        vertical-align: middle;\n",
       "    }\n",
       "\n",
       "    .dataframe tbody tr th {\n",
       "        vertical-align: top;\n",
       "    }\n",
       "\n",
       "    .dataframe thead th {\n",
       "        text-align: right;\n",
       "    }\n",
       "</style>\n",
       "<table border=\"1\" class=\"dataframe\">\n",
       "  <thead>\n",
       "    <tr style=\"text-align: right;\">\n",
       "      <th></th>\n",
       "      <th>online_order</th>\n",
       "      <th>book_table</th>\n",
       "      <th>rate</th>\n",
       "      <th>votes</th>\n",
       "      <th>location</th>\n",
       "      <th>rest_type</th>\n",
       "      <th>cuisines</th>\n",
       "      <th>cost</th>\n",
       "      <th>menu_item</th>\n",
       "    </tr>\n",
       "  </thead>\n",
       "  <tbody>\n",
       "    <tr>\n",
       "      <th>0</th>\n",
       "      <td>1</td>\n",
       "      <td>1</td>\n",
       "      <td>4.1</td>\n",
       "      <td>775</td>\n",
       "      <td>1</td>\n",
       "      <td>20</td>\n",
       "      <td>1386</td>\n",
       "      <td>800.0</td>\n",
       "      <td>5047</td>\n",
       "    </tr>\n",
       "    <tr>\n",
       "      <th>1</th>\n",
       "      <td>1</td>\n",
       "      <td>0</td>\n",
       "      <td>4.1</td>\n",
       "      <td>787</td>\n",
       "      <td>1</td>\n",
       "      <td>20</td>\n",
       "      <td>594</td>\n",
       "      <td>800.0</td>\n",
       "      <td>5047</td>\n",
       "    </tr>\n",
       "    <tr>\n",
       "      <th>2</th>\n",
       "      <td>1</td>\n",
       "      <td>0</td>\n",
       "      <td>3.8</td>\n",
       "      <td>918</td>\n",
       "      <td>1</td>\n",
       "      <td>16</td>\n",
       "      <td>484</td>\n",
       "      <td>800.0</td>\n",
       "      <td>5047</td>\n",
       "    </tr>\n",
       "    <tr>\n",
       "      <th>3</th>\n",
       "      <td>0</td>\n",
       "      <td>0</td>\n",
       "      <td>3.7</td>\n",
       "      <td>88</td>\n",
       "      <td>1</td>\n",
       "      <td>62</td>\n",
       "      <td>1587</td>\n",
       "      <td>300.0</td>\n",
       "      <td>5047</td>\n",
       "    </tr>\n",
       "    <tr>\n",
       "      <th>4</th>\n",
       "      <td>0</td>\n",
       "      <td>0</td>\n",
       "      <td>3.8</td>\n",
       "      <td>166</td>\n",
       "      <td>4</td>\n",
       "      <td>20</td>\n",
       "      <td>1406</td>\n",
       "      <td>600.0</td>\n",
       "      <td>5047</td>\n",
       "    </tr>\n",
       "  </tbody>\n",
       "</table>\n",
       "</div>"
      ],
      "text/plain": [
       "  online_order  book_table  rate  votes  location  rest_type  cuisines   cost  \\\n",
       "0            1           1   4.1    775         1         20      1386  800.0   \n",
       "1            1           0   4.1    787         1         20       594  800.0   \n",
       "2            1           0   3.8    918         1         16       484  800.0   \n",
       "3            0           0   3.7     88         1         62      1587  300.0   \n",
       "4            0           0   3.8    166         4         20      1406  600.0   \n",
       "\n",
       "   menu_item  \n",
       "0       5047  \n",
       "1       5047  \n",
       "2       5047  \n",
       "3       5047  \n",
       "4       5047  "
      ]
     },
     "execution_count": 44,
     "metadata": {},
     "output_type": "execute_result"
    }
   ],
   "source": [
    "my_data.head()"
   ]
  },
  {
   "cell_type": "code",
   "execution_count": 45,
   "id": "539e5c75",
   "metadata": {
    "execution": {
     "iopub.execute_input": "2022-05-16T06:09:09.473351Z",
     "iopub.status.busy": "2022-05-16T06:09:09.473086Z",
     "iopub.status.idle": "2022-05-16T06:09:10.17877Z",
     "shell.execute_reply": "2022-05-16T06:09:10.177804Z"
    },
    "papermill": {
     "duration": 0.840962,
     "end_time": "2022-05-16T06:09:10.181303",
     "exception": false,
     "start_time": "2022-05-16T06:09:09.340341",
     "status": "completed"
    },
    "tags": []
   },
   "outputs": [
    {
     "data": {
      "image/png": "[encoded data removed]",
      "text/plain": [
       "<Figure size 1440x1440 with 2 Axes>"
      ]
     },
     "metadata": {
      "needs_background": "light"
     },
     "output_type": "display_data"
    }
   ],
   "source": [
    "plt.figure(figsize = (20,20))\n",
    "sns.heatmap(my_data.corr(), annot = True)\n",
    "plt.show()"
   ]
  },
  {
   "cell_type": "markdown",
   "id": "eb29bbe3",
   "metadata": {
    "papermill": {
     "duration": 0.132598,
     "end_time": "2022-05-16T06:09:10.445357",
     "exception": false,
     "start_time": "2022-05-16T06:09:10.312759",
     "status": "completed"
    },
    "tags": []
   },
   "source": [
    "__Insights:__\n",
    "- Here from the above we can see that rate is higly correlated with votes. "
   ]
  },
  {
   "cell_type": "markdown",
   "id": "a2936a19",
   "metadata": {
    "papermill": {
     "duration": 0.13298,
     "end_time": "2022-05-16T06:09:10.711356",
     "exception": false,
     "start_time": "2022-05-16T06:09:10.578376",
     "status": "completed"
    },
    "tags": []
   },
   "source": [
    "#### 4.3 Depedent and independent variable"
   ]
  },
  {
   "cell_type": "code",
   "execution_count": 46,
   "id": "c00dc2b3",
   "metadata": {
    "execution": {
     "iopub.execute_input": "2022-05-16T06:09:10.977337Z",
     "iopub.status.busy": "2022-05-16T06:09:10.976347Z",
     "iopub.status.idle": "2022-05-16T06:09:10.982978Z",
     "shell.execute_reply": "2022-05-16T06:09:10.982376Z"
    },
    "papermill": {
     "duration": 0.142847,
     "end_time": "2022-05-16T06:09:10.984909",
     "exception": false,
     "start_time": "2022-05-16T06:09:10.842062",
     "status": "completed"
    },
    "tags": []
   },
   "outputs": [],
   "source": [
    "X = df.iloc[:,[2,3,5,6,7,9,10,12]]\n",
    "y = df['rate']"
   ]
  },
  {
   "cell_type": "code",
   "execution_count": 47,
   "id": "4d1df078",
   "metadata": {
    "execution": {
     "iopub.execute_input": "2022-05-16T06:09:11.248144Z",
     "iopub.status.busy": "2022-05-16T06:09:11.247753Z",
     "iopub.status.idle": "2022-05-16T06:09:11.263807Z",
     "shell.execute_reply": "2022-05-16T06:09:11.263004Z"
    },
    "papermill": {
     "duration": 0.150209,
     "end_time": "2022-05-16T06:09:11.26604",
     "exception": false,
     "start_time": "2022-05-16T06:09:11.115831",
     "status": "completed"
    },
    "tags": []
   },
   "outputs": [
    {
     "data": {
      "text/html": [
       "<div>\n",
       "<style scoped>\n",
       "    .dataframe tbody tr th:only-of-type {\n",
       "        vertical-align: middle;\n",
       "    }\n",
       "\n",
       "    .dataframe tbody tr th {\n",
       "        vertical-align: top;\n",
       "    }\n",
       "\n",
       "    .dataframe thead th {\n",
       "        text-align: right;\n",
       "    }\n",
       "</style>\n",
       "<table border=\"1\" class=\"dataframe\">\n",
       "  <thead>\n",
       "    <tr style=\"text-align: right;\">\n",
       "      <th></th>\n",
       "      <th>online_order</th>\n",
       "      <th>book_table</th>\n",
       "      <th>votes</th>\n",
       "      <th>location</th>\n",
       "      <th>rest_type</th>\n",
       "      <th>cuisines</th>\n",
       "      <th>cost</th>\n",
       "      <th>menu_item</th>\n",
       "    </tr>\n",
       "  </thead>\n",
       "  <tbody>\n",
       "    <tr>\n",
       "      <th>0</th>\n",
       "      <td>1</td>\n",
       "      <td>1</td>\n",
       "      <td>775</td>\n",
       "      <td>1</td>\n",
       "      <td>20</td>\n",
       "      <td>1386</td>\n",
       "      <td>800.0</td>\n",
       "      <td>5047</td>\n",
       "    </tr>\n",
       "    <tr>\n",
       "      <th>1</th>\n",
       "      <td>1</td>\n",
       "      <td>0</td>\n",
       "      <td>787</td>\n",
       "      <td>1</td>\n",
       "      <td>20</td>\n",
       "      <td>594</td>\n",
       "      <td>800.0</td>\n",
       "      <td>5047</td>\n",
       "    </tr>\n",
       "    <tr>\n",
       "      <th>2</th>\n",
       "      <td>1</td>\n",
       "      <td>0</td>\n",
       "      <td>918</td>\n",
       "      <td>1</td>\n",
       "      <td>16</td>\n",
       "      <td>484</td>\n",
       "      <td>800.0</td>\n",
       "      <td>5047</td>\n",
       "    </tr>\n",
       "    <tr>\n",
       "      <th>3</th>\n",
       "      <td>0</td>\n",
       "      <td>0</td>\n",
       "      <td>88</td>\n",
       "      <td>1</td>\n",
       "      <td>62</td>\n",
       "      <td>1587</td>\n",
       "      <td>300.0</td>\n",
       "      <td>5047</td>\n",
       "    </tr>\n",
       "    <tr>\n",
       "      <th>4</th>\n",
       "      <td>0</td>\n",
       "      <td>0</td>\n",
       "      <td>166</td>\n",
       "      <td>4</td>\n",
       "      <td>20</td>\n",
       "      <td>1406</td>\n",
       "      <td>600.0</td>\n",
       "      <td>5047</td>\n",
       "    </tr>\n",
       "    <tr>\n",
       "      <th>...</th>\n",
       "      <td>...</td>\n",
       "      <td>...</td>\n",
       "      <td>...</td>\n",
       "      <td>...</td>\n",
       "      <td>...</td>\n",
       "      <td>...</td>\n",
       "      <td>...</td>\n",
       "      <td>...</td>\n",
       "    </tr>\n",
       "    <tr>\n",
       "      <th>23243</th>\n",
       "      <td>1</td>\n",
       "      <td>1</td>\n",
       "      <td>128</td>\n",
       "      <td>84</td>\n",
       "      <td>5</td>\n",
       "      <td>1318</td>\n",
       "      <td>1200.0</td>\n",
       "      <td>5047</td>\n",
       "    </tr>\n",
       "    <tr>\n",
       "      <th>23244</th>\n",
       "      <td>0</td>\n",
       "      <td>0</td>\n",
       "      <td>77</td>\n",
       "      <td>84</td>\n",
       "      <td>38</td>\n",
       "      <td>878</td>\n",
       "      <td>2000.0</td>\n",
       "      <td>5047</td>\n",
       "    </tr>\n",
       "    <tr>\n",
       "      <th>23245</th>\n",
       "      <td>0</td>\n",
       "      <td>0</td>\n",
       "      <td>161</td>\n",
       "      <td>84</td>\n",
       "      <td>21</td>\n",
       "      <td>539</td>\n",
       "      <td>1200.0</td>\n",
       "      <td>5047</td>\n",
       "    </tr>\n",
       "    <tr>\n",
       "      <th>23246</th>\n",
       "      <td>0</td>\n",
       "      <td>0</td>\n",
       "      <td>81</td>\n",
       "      <td>84</td>\n",
       "      <td>21</td>\n",
       "      <td>80</td>\n",
       "      <td>800.0</td>\n",
       "      <td>5047</td>\n",
       "    </tr>\n",
       "    <tr>\n",
       "      <th>23247</th>\n",
       "      <td>0</td>\n",
       "      <td>1</td>\n",
       "      <td>236</td>\n",
       "      <td>25</td>\n",
       "      <td>4</td>\n",
       "      <td>878</td>\n",
       "      <td>2500.0</td>\n",
       "      <td>5047</td>\n",
       "    </tr>\n",
       "  </tbody>\n",
       "</table>\n",
       "<p>23248 rows × 8 columns</p>\n",
       "</div>"
      ],
      "text/plain": [
       "      online_order  book_table  votes  location  rest_type  cuisines    cost  \\\n",
       "0                1           1    775         1         20      1386   800.0   \n",
       "1                1           0    787         1         20       594   800.0   \n",
       "2                1           0    918         1         16       484   800.0   \n",
       "3                0           0     88         1         62      1587   300.0   \n",
       "4                0           0    166         4         20      1406   600.0   \n",
       "...            ...         ...    ...       ...        ...       ...     ...   \n",
       "23243            1           1    128        84          5      1318  1200.0   \n",
       "23244            0           0     77        84         38       878  2000.0   \n",
       "23245            0           0    161        84         21       539  1200.0   \n",
       "23246            0           0     81        84         21        80   800.0   \n",
       "23247            0           1    236        25          4       878  2500.0   \n",
       "\n",
       "       menu_item  \n",
       "0           5047  \n",
       "1           5047  \n",
       "2           5047  \n",
       "3           5047  \n",
       "4           5047  \n",
       "...          ...  \n",
       "23243       5047  \n",
       "23244       5047  \n",
       "23245       5047  \n",
       "23246       5047  \n",
       "23247       5047  \n",
       "\n",
       "[23248 rows x 8 columns]"
      ]
     },
     "execution_count": 47,
     "metadata": {},
     "output_type": "execute_result"
    }
   ],
   "source": [
    "X"
   ]
  },
  {
   "cell_type": "code",
   "execution_count": null,
   "id": "3cd3ff44",
   "metadata": {
    "papermill": {
     "duration": 0.133374,
     "end_time": "2022-05-16T06:09:11.531146",
     "exception": false,
     "start_time": "2022-05-16T06:09:11.397772",
     "status": "completed"
    },
    "tags": []
   },
   "outputs": [],
   "source": []
  },
  {
   "cell_type": "code",
   "execution_count": 48,
   "id": "00a32fed",
   "metadata": {
    "execution": {
     "iopub.execute_input": "2022-05-16T06:09:11.797064Z",
     "iopub.status.busy": "2022-05-16T06:09:11.796789Z",
     "iopub.status.idle": "2022-05-16T06:09:11.804541Z",
     "shell.execute_reply": "2022-05-16T06:09:11.803525Z"
    },
    "papermill": {
     "duration": 0.143661,
     "end_time": "2022-05-16T06:09:11.806492",
     "exception": false,
     "start_time": "2022-05-16T06:09:11.662831",
     "status": "completed"
    },
    "tags": []
   },
   "outputs": [
    {
     "data": {
      "text/plain": [
       "0        4.1\n",
       "1        4.1\n",
       "2        3.8\n",
       "3        3.7\n",
       "4        3.8\n",
       "        ... \n",
       "23243    3.8\n",
       "23244    3.9\n",
       "23245    2.8\n",
       "23246    2.5\n",
       "23247    4.3\n",
       "Name: rate, Length: 23248, dtype: float64"
      ]
     },
     "execution_count": 48,
     "metadata": {},
     "output_type": "execute_result"
    }
   ],
   "source": [
    "y"
   ]
  },
  {
   "cell_type": "markdown",
   "id": "7d8694e7",
   "metadata": {
    "papermill": {
     "duration": 0.133784,
     "end_time": "2022-05-16T06:09:12.073017",
     "exception": false,
     "start_time": "2022-05-16T06:09:11.939233",
     "status": "completed"
    },
    "tags": []
   },
   "source": [
    "#### 4.4 Splitting data into train and test set"
   ]
  },
  {
   "cell_type": "code",
   "execution_count": 49,
   "id": "3a17e48b",
   "metadata": {
    "execution": {
     "iopub.execute_input": "2022-05-16T06:09:12.339716Z",
     "iopub.status.busy": "2022-05-16T06:09:12.339386Z",
     "iopub.status.idle": "2022-05-16T06:09:12.402606Z",
     "shell.execute_reply": "2022-05-16T06:09:12.401985Z"
    },
    "papermill": {
     "duration": 0.198625,
     "end_time": "2022-05-16T06:09:12.404736",
     "exception": false,
     "start_time": "2022-05-16T06:09:12.206111",
     "status": "completed"
    },
    "tags": []
   },
   "outputs": [],
   "source": [
    "from sklearn.model_selection import train_test_split\n",
    "X_train,X_test,y_train,y_test=train_test_split(X,y,test_size=.3,random_state=10)\n"
   ]
  },
  {
   "cell_type": "code",
   "execution_count": 50,
   "id": "77faea2c",
   "metadata": {
    "execution": {
     "iopub.execute_input": "2022-05-16T06:09:12.677607Z",
     "iopub.status.busy": "2022-05-16T06:09:12.676976Z",
     "iopub.status.idle": "2022-05-16T06:09:12.693776Z",
     "shell.execute_reply": "2022-05-16T06:09:12.692974Z"
    },
    "papermill": {
     "duration": 0.153595,
     "end_time": "2022-05-16T06:09:12.69576",
     "exception": false,
     "start_time": "2022-05-16T06:09:12.542165",
     "status": "completed"
    },
    "tags": []
   },
   "outputs": [
    {
     "data": {
      "text/html": [
       "<div>\n",
       "<style scoped>\n",
       "    .dataframe tbody tr th:only-of-type {\n",
       "        vertical-align: middle;\n",
       "    }\n",
       "\n",
       "    .dataframe tbody tr th {\n",
       "        vertical-align: top;\n",
       "    }\n",
       "\n",
       "    .dataframe thead th {\n",
       "        text-align: right;\n",
       "    }\n",
       "</style>\n",
       "<table border=\"1\" class=\"dataframe\">\n",
       "  <thead>\n",
       "    <tr style=\"text-align: right;\">\n",
       "      <th></th>\n",
       "      <th>online_order</th>\n",
       "      <th>book_table</th>\n",
       "      <th>votes</th>\n",
       "      <th>location</th>\n",
       "      <th>rest_type</th>\n",
       "      <th>cuisines</th>\n",
       "      <th>cost</th>\n",
       "      <th>menu_item</th>\n",
       "    </tr>\n",
       "  </thead>\n",
       "  <tbody>\n",
       "    <tr>\n",
       "      <th>17097</th>\n",
       "      <td>1</td>\n",
       "      <td>1</td>\n",
       "      <td>232</td>\n",
       "      <td>49</td>\n",
       "      <td>5</td>\n",
       "      <td>122</td>\n",
       "      <td>2000.0</td>\n",
       "      <td>5047</td>\n",
       "    </tr>\n",
       "    <tr>\n",
       "      <th>5558</th>\n",
       "      <td>1</td>\n",
       "      <td>1</td>\n",
       "      <td>3485</td>\n",
       "      <td>48</td>\n",
       "      <td>61</td>\n",
       "      <td>646</td>\n",
       "      <td>1700.0</td>\n",
       "      <td>5047</td>\n",
       "    </tr>\n",
       "    <tr>\n",
       "      <th>22590</th>\n",
       "      <td>1</td>\n",
       "      <td>1</td>\n",
       "      <td>977</td>\n",
       "      <td>71</td>\n",
       "      <td>57</td>\n",
       "      <td>669</td>\n",
       "      <td>1500.0</td>\n",
       "      <td>1171</td>\n",
       "    </tr>\n",
       "    <tr>\n",
       "      <th>4803</th>\n",
       "      <td>0</td>\n",
       "      <td>0</td>\n",
       "      <td>118</td>\n",
       "      <td>30</td>\n",
       "      <td>20</td>\n",
       "      <td>1185</td>\n",
       "      <td>800.0</td>\n",
       "      <td>5047</td>\n",
       "    </tr>\n",
       "    <tr>\n",
       "      <th>21701</th>\n",
       "      <td>0</td>\n",
       "      <td>1</td>\n",
       "      <td>497</td>\n",
       "      <td>65</td>\n",
       "      <td>54</td>\n",
       "      <td>1124</td>\n",
       "      <td>2000.0</td>\n",
       "      <td>5047</td>\n",
       "    </tr>\n",
       "    <tr>\n",
       "      <th>...</th>\n",
       "      <td>...</td>\n",
       "      <td>...</td>\n",
       "      <td>...</td>\n",
       "      <td>...</td>\n",
       "      <td>...</td>\n",
       "      <td>...</td>\n",
       "      <td>...</td>\n",
       "      <td>...</td>\n",
       "    </tr>\n",
       "    <tr>\n",
       "      <th>9372</th>\n",
       "      <td>1</td>\n",
       "      <td>1</td>\n",
       "      <td>871</td>\n",
       "      <td>30</td>\n",
       "      <td>20</td>\n",
       "      <td>1296</td>\n",
       "      <td>900.0</td>\n",
       "      <td>5047</td>\n",
       "    </tr>\n",
       "    <tr>\n",
       "      <th>7291</th>\n",
       "      <td>1</td>\n",
       "      <td>0</td>\n",
       "      <td>450</td>\n",
       "      <td>22</td>\n",
       "      <td>20</td>\n",
       "      <td>1209</td>\n",
       "      <td>550.0</td>\n",
       "      <td>5047</td>\n",
       "    </tr>\n",
       "    <tr>\n",
       "      <th>17728</th>\n",
       "      <td>0</td>\n",
       "      <td>1</td>\n",
       "      <td>592</td>\n",
       "      <td>67</td>\n",
       "      <td>20</td>\n",
       "      <td>1156</td>\n",
       "      <td>1200.0</td>\n",
       "      <td>5047</td>\n",
       "    </tr>\n",
       "    <tr>\n",
       "      <th>7293</th>\n",
       "      <td>0</td>\n",
       "      <td>0</td>\n",
       "      <td>196</td>\n",
       "      <td>38</td>\n",
       "      <td>29</td>\n",
       "      <td>838</td>\n",
       "      <td>500.0</td>\n",
       "      <td>5047</td>\n",
       "    </tr>\n",
       "    <tr>\n",
       "      <th>17673</th>\n",
       "      <td>0</td>\n",
       "      <td>0</td>\n",
       "      <td>122</td>\n",
       "      <td>48</td>\n",
       "      <td>21</td>\n",
       "      <td>1304</td>\n",
       "      <td>1200.0</td>\n",
       "      <td>5047</td>\n",
       "    </tr>\n",
       "  </tbody>\n",
       "</table>\n",
       "<p>16273 rows × 8 columns</p>\n",
       "</div>"
      ],
      "text/plain": [
       "      online_order  book_table  votes  location  rest_type  cuisines    cost  \\\n",
       "17097            1           1    232        49          5       122  2000.0   \n",
       "5558             1           1   3485        48         61       646  1700.0   \n",
       "22590            1           1    977        71         57       669  1500.0   \n",
       "4803             0           0    118        30         20      1185   800.0   \n",
       "21701            0           1    497        65         54      1124  2000.0   \n",
       "...            ...         ...    ...       ...        ...       ...     ...   \n",
       "9372             1           1    871        30         20      1296   900.0   \n",
       "7291             1           0    450        22         20      1209   550.0   \n",
       "17728            0           1    592        67         20      1156  1200.0   \n",
       "7293             0           0    196        38         29       838   500.0   \n",
       "17673            0           0    122        48         21      1304  1200.0   \n",
       "\n",
       "       menu_item  \n",
       "17097       5047  \n",
       "5558        5047  \n",
       "22590       1171  \n",
       "4803        5047  \n",
       "21701       5047  \n",
       "...          ...  \n",
       "9372        5047  \n",
       "7291        5047  \n",
       "17728       5047  \n",
       "7293        5047  \n",
       "17673       5047  \n",
       "\n",
       "[16273 rows x 8 columns]"
      ]
     },
     "execution_count": 50,
     "metadata": {},
     "output_type": "execute_result"
    }
   ],
   "source": [
    "X_train"
   ]
  },
  {
   "cell_type": "code",
   "execution_count": 51,
   "id": "240b05fb",
   "metadata": {
    "execution": {
     "iopub.execute_input": "2022-05-16T06:09:12.964473Z",
     "iopub.status.busy": "2022-05-16T06:09:12.963941Z",
     "iopub.status.idle": "2022-05-16T06:09:12.970714Z",
     "shell.execute_reply": "2022-05-16T06:09:12.969866Z"
    },
    "papermill": {
     "duration": 0.143253,
     "end_time": "2022-05-16T06:09:12.972797",
     "exception": false,
     "start_time": "2022-05-16T06:09:12.829544",
     "status": "completed"
    },
    "tags": []
   },
   "outputs": [
    {
     "data": {
      "text/plain": [
       "17097    4.4\n",
       "5558     4.3\n",
       "22590    4.0\n",
       "4803     3.9\n",
       "21701    4.3\n",
       "        ... \n",
       "9372     4.0\n",
       "7291     3.9\n",
       "17728    4.3\n",
       "7293     3.8\n",
       "17673    3.1\n",
       "Name: rate, Length: 16273, dtype: float64"
      ]
     },
     "execution_count": 51,
     "metadata": {},
     "output_type": "execute_result"
    }
   ],
   "source": [
    "y_train"
   ]
  },
  {
   "cell_type": "markdown",
   "id": "a80e1ac2",
   "metadata": {
    "papermill": {
     "duration": 0.134087,
     "end_time": "2022-05-16T06:09:13.244455",
     "exception": false,
     "start_time": "2022-05-16T06:09:13.110368",
     "status": "completed"
    },
    "tags": []
   },
   "source": [
    "## 5 Modeling"
   ]
  },
  {
   "cell_type": "markdown",
   "id": "61462d4b",
   "metadata": {
    "papermill": {
     "duration": 0.142145,
     "end_time": "2022-05-16T06:09:13.537411",
     "exception": false,
     "start_time": "2022-05-16T06:09:13.395266",
     "status": "completed"
    },
    "tags": []
   },
   "source": [
    "#### 5.1 Linear Regression"
   ]
  },
  {
   "cell_type": "code",
   "execution_count": 52,
   "id": "dec4282d",
   "metadata": {
    "execution": {
     "iopub.execute_input": "2022-05-16T06:09:13.825907Z",
     "iopub.status.busy": "2022-05-16T06:09:13.825102Z",
     "iopub.status.idle": "2022-05-16T06:09:13.998209Z",
     "shell.execute_reply": "2022-05-16T06:09:13.997149Z"
    },
    "papermill": {
     "duration": 0.317643,
     "end_time": "2022-05-16T06:09:14.001163",
     "exception": false,
     "start_time": "2022-05-16T06:09:13.68352",
     "status": "completed"
    },
    "tags": []
   },
   "outputs": [
    {
     "name": "stdout",
     "output_type": "stream",
     "text": [
      "0.22818828522967072\n"
     ]
    }
   ],
   "source": [
    "from sklearn.linear_model import LinearRegression\n",
    "lr = LinearRegression()\n",
    "lr.fit(X_train,y_train)\n",
    "\n",
    "#predict the test set\n",
    "y_pred = lr.predict(X_test)\n",
    "\n",
    "## Evaluate the model\n",
    "from sklearn.metrics import r2_score\n",
    "print(r2_score(y_test, y_pred))"
   ]
  },
  {
   "cell_type": "code",
   "execution_count": null,
   "id": "9390f74f",
   "metadata": {
    "papermill": {
     "duration": 0.132941,
     "end_time": "2022-05-16T06:09:14.343606",
     "exception": false,
     "start_time": "2022-05-16T06:09:14.210665",
     "status": "completed"
    },
    "tags": []
   },
   "outputs": [],
   "source": []
  },
  {
   "cell_type": "markdown",
   "id": "fef373a9",
   "metadata": {
    "papermill": {
     "duration": 0.132753,
     "end_time": "2022-05-16T06:09:14.609815",
     "exception": false,
     "start_time": "2022-05-16T06:09:14.477062",
     "status": "completed"
    },
    "tags": []
   },
   "source": [
    "#### 5.2 Decision Tree Regression"
   ]
  },
  {
   "cell_type": "code",
   "execution_count": 53,
   "id": "8c212d80",
   "metadata": {
    "execution": {
     "iopub.execute_input": "2022-05-16T06:09:14.879273Z",
     "iopub.status.busy": "2022-05-16T06:09:14.879005Z",
     "iopub.status.idle": "2022-05-16T06:09:15.024389Z",
     "shell.execute_reply": "2022-05-16T06:09:15.023182Z"
    },
    "papermill": {
     "duration": 0.283751,
     "end_time": "2022-05-16T06:09:15.027143",
     "exception": false,
     "start_time": "2022-05-16T06:09:14.743392",
     "status": "completed"
    },
    "tags": []
   },
   "outputs": [
    {
     "name": "stdout",
     "output_type": "stream",
     "text": [
      "0.3741898389426611\n"
     ]
    }
   ],
   "source": [
    "from sklearn.tree import DecisionTreeRegressor\n",
    "dtr = DecisionTreeRegressor(min_samples_leaf=0.01)\n",
    "\n",
    "dtr.fit(X_train,y_train)\n",
    "\n",
    "# Predict the test ser\n",
    "y_pred  = dtr.predict(X_test)\n",
    "\n",
    "# Evaluate the model performance\n",
    "from sklearn.metrics import r2_score\n",
    "\n",
    "print(r2_score(y_test,y_pred))\n"
   ]
  },
  {
   "cell_type": "markdown",
   "id": "e29690d9",
   "metadata": {
    "papermill": {
     "duration": 0.133059,
     "end_time": "2022-05-16T06:09:15.297058",
     "exception": false,
     "start_time": "2022-05-16T06:09:15.163999",
     "status": "completed"
    },
    "tags": []
   },
   "source": [
    "#### 5.3 Random Forest Regressor"
   ]
  },
  {
   "cell_type": "code",
   "execution_count": 54,
   "id": "2e57af5f",
   "metadata": {
    "execution": {
     "iopub.execute_input": "2022-05-16T06:09:15.56831Z",
     "iopub.status.busy": "2022-05-16T06:09:15.567623Z",
     "iopub.status.idle": "2022-05-16T06:09:43.771072Z",
     "shell.execute_reply": "2022-05-16T06:09:43.770096Z"
    },
    "papermill": {
     "duration": 28.344251,
     "end_time": "2022-05-16T06:09:43.774674",
     "exception": false,
     "start_time": "2022-05-16T06:09:15.430423",
     "status": "completed"
    },
    "tags": []
   },
   "outputs": [
    {
     "name": "stdout",
     "output_type": "stream",
     "text": [
      "0.8809706960047533\n"
     ]
    }
   ],
   "source": [
    "from sklearn.ensemble import RandomForestRegressor\n",
    "rfr = RandomForestRegressor(n_estimators=650,random_state=245,min_samples_leaf=.0001)\n",
    "rfr.fit(X_train,y_train)\n",
    "\n",
    "# Predict the test ser\n",
    "y_pred  = rfr.predict(X_test)\n",
    "\n",
    "# Evaluate the model performance\n",
    "from sklearn.metrics import r2_score\n",
    "\n",
    "print(r2_score(y_test,y_pred))"
   ]
  },
  {
   "cell_type": "markdown",
   "id": "82ed8ed5",
   "metadata": {
    "papermill": {
     "duration": 0.134867,
     "end_time": "2022-05-16T06:09:44.045252",
     "exception": false,
     "start_time": "2022-05-16T06:09:43.910385",
     "status": "completed"
    },
    "tags": []
   },
   "source": [
    "#### 5.4 Support vector Regressor"
   ]
  },
  {
   "cell_type": "code",
   "execution_count": 55,
   "id": "8ab27c6d",
   "metadata": {
    "execution": {
     "iopub.execute_input": "2022-05-16T06:09:44.313982Z",
     "iopub.status.busy": "2022-05-16T06:09:44.313269Z",
     "iopub.status.idle": "2022-05-16T06:09:58.271688Z",
     "shell.execute_reply": "2022-05-16T06:09:58.271006Z"
    },
    "papermill": {
     "duration": 14.094906,
     "end_time": "2022-05-16T06:09:58.273654",
     "exception": false,
     "start_time": "2022-05-16T06:09:44.178748",
     "status": "completed"
    },
    "tags": []
   },
   "outputs": [
    {
     "name": "stdout",
     "output_type": "stream",
     "text": [
      "0.24327610722747994\n"
     ]
    }
   ],
   "source": [
    "from sklearn.svm import SVR\n",
    "svr = SVR(kernel ='rbf')\n",
    "\n",
    "svr.fit(X_train, y_train)\n",
    "\n",
    "# predict the test set\n",
    "y_pred = svr.predict(X_test)\n",
    "\n",
    "# Evaluate the performance\n",
    "from sklearn.metrics import r2_score\n",
    "r2 = r2_score(y_test, y_pred)\n",
    "print(r2)"
   ]
  },
  {
   "cell_type": "code",
   "execution_count": null,
   "id": "f97b75d0",
   "metadata": {
    "papermill": {
     "duration": 0.134089,
     "end_time": "2022-05-16T06:09:58.541916",
     "exception": false,
     "start_time": "2022-05-16T06:09:58.407827",
     "status": "completed"
    },
    "tags": []
   },
   "outputs": [],
   "source": []
  },
  {
   "cell_type": "markdown",
   "id": "81ddbd30",
   "metadata": {
    "papermill": {
     "duration": 0.134649,
     "end_time": "2022-05-16T06:09:58.810913",
     "exception": false,
     "start_time": "2022-05-16T06:09:58.676264",
     "status": "completed"
    },
    "tags": []
   },
   "source": [
    "#### 5.5 Extra tree Regressor"
   ]
  },
  {
   "cell_type": "markdown",
   "id": "42ff66e6",
   "metadata": {
    "papermill": {
     "duration": 0.16132,
     "end_time": "2022-05-16T06:09:59.107003",
     "exception": false,
     "start_time": "2022-05-16T06:09:58.945683",
     "status": "completed"
    },
    "tags": []
   },
   "source": [
    "Extra Trees is like a Random Forest, in that it builds multiple trees and splits nodes using random subsets of features, but with two key differences: it does not bootstrap observations (meaning it samples without replacement), and nodes are split on random splits, not best splits. So in summary, ExtraTrees:\n",
    "\n",
    " - builds multiple trees with bootstrap = False by default, which means it samples without replacement.\n",
    " - nodes are split based on random splits among a random subset of the features selected at every node\n",
    "\n",
    "In Extra Trees, randomness doesn’t come from bootstrapping the data, but rather comes from the random splits of all observations. ExtraTrees is named for (Extremely Randomized Trees)."
   ]
  },
  {
   "cell_type": "code",
   "execution_count": 56,
   "id": "074e6c98",
   "metadata": {
    "execution": {
     "iopub.execute_input": "2022-05-16T06:09:59.379435Z",
     "iopub.status.busy": "2022-05-16T06:09:59.378925Z",
     "iopub.status.idle": "2022-05-16T06:10:02.419027Z",
     "shell.execute_reply": "2022-05-16T06:10:02.418096Z"
    },
    "papermill": {
     "duration": 3.178361,
     "end_time": "2022-05-16T06:10:02.421227",
     "exception": false,
     "start_time": "2022-05-16T06:09:59.242866",
     "status": "completed"
    },
    "tags": []
   },
   "outputs": [
    {
     "name": "stdout",
     "output_type": "stream",
     "text": [
      "0.933027981873644\n"
     ]
    }
   ],
   "source": [
    "from sklearn.ensemble import ExtraTreesRegressor\n",
    "etr = ExtraTreesRegressor(n_estimators = 120)\n",
    "\n",
    "etr.fit(X_train, y_train)\n",
    "\n",
    "# predict the test set\n",
    "y_pred = etr.predict(X_test)\n",
    "\n",
    "# Evaluate the model performance\n",
    "from sklearn.metrics import r2_score\n",
    "r2 = r2_score(y_test,y_pred)\n",
    "print(r2)"
   ]
  },
  {
   "cell_type": "markdown",
   "id": "9de70af4",
   "metadata": {
    "papermill": {
     "duration": 0.134862,
     "end_time": "2022-05-16T06:10:02.693436",
     "exception": false,
     "start_time": "2022-05-16T06:10:02.558574",
     "status": "completed"
    },
    "tags": []
   },
   "source": [
    "## 6. Conclusion :\n",
    "\n",
    "- From the analysis, __'Onesta'__, __'Empire Restaurant'__  & __'KFC'__ are the most famous restaurants in bangalore.\n",
    "- Most Restaurants offer options for online order and delivery.\n",
    "- Most restaurants don't offer table booking.\n",
    "- From the analysis, most of the ratings are within 3.5 and 4.5.\n",
    "- From the analysis. we can see that most of the restaurants located in '__Koramangala 5th Block__', '__BTM__' & '__Indiranagar__'.Then least restaurants are located  '__KR Puram__', '__Kanakapura__', '__Magadi Road__'.\n",
    "\n",
    "- __'Casual Dining'__, __'Quick Bites'__, __'Cafe'__, __'Dessert Parlor'__ are the most common types of  restaurant.And __'Food Court'__, __'Casual Dining'__, __'Dhaba'__ are the least common. \n",
    "-  From the analysis, __pasta__ & __Pizza__ most famous food in bangalore restaurants. \n",
    "- From the analysis, we can see that __North Indian__  Cuisines are most famous in bangalore restaurants. \n",
    "-  Two main service types are __Delivery__ and __Dine-out__. \n",
    "- From the analysis, we can see that   __'Onesta'__, __'Truffles'__ & __'Empire Restaurant'__ are  highly voted restaurants.\n",
    "\n",
    "- For the modeling part, i used __LinearRegression__, __DecisionTree Regressor__, __RandomForest Regressor__ , __Supprotvector Regressor__ & __ExtraTree Regressor__. From all these models __ExtraTree Regressor__ perform well compared to the other models.So i selected __ExtraTree Regressor__ for model creation.\n",
    "\n"
   ]
  },
  {
   "cell_type": "code",
   "execution_count": 1,
   "id": "03586b5e",
   "metadata": {
    "papermill": {
     "duration": 0.137448,
     "end_time": "2022-05-16T06:10:02.967215",
     "exception": false,
     "start_time": "2022-05-16T06:10:02.829767",
     "status": "completed"
    },
    "tags": []
   },
   "outputs": [
    {
     "name": "stdout",
     "output_type": "stream",
     "text": [
      "Requirement already satisfied: pandoc in c:\\python312\\lib\\site-packages (2.3)\n",
      "Requirement already satisfied: plumbum in c:\\python312\\lib\\site-packages (from pandoc) (1.8.3)\n",
      "Requirement already satisfied: ply in c:\\python312\\lib\\site-packages (from pandoc) (3.11)\n",
      "Requirement already satisfied: pywin32 in c:\\python312\\lib\\site-packages (from plumbum->pandoc) (306)\n",
      "Note: you may need to restart the kernel to use updated packages.\n"
     ]
    }
   ],
   "source": [
    "pip install pandoc"
   ]
  },
  {
   "cell_type": "code",
   "execution_count": null,
   "id": "0dd0982b-b1cb-466d-8ed2-36ed34cb5bd9",
   "metadata": {},
   "outputs": [],
   "source": []
  }
 ],
 "metadata": {
  "kernelspec": {
   "display_name": "Python 3 (ipykernel)",
   "language": "python",
   "name": "python3"
  },
  "language_info": {
   "codemirror_mode": {
    "name": "ipython",
    "version": 3
   },
   "file_extension": ".py",
   "mimetype": "text/x-python",
   "name": "python",
   "nbconvert_exporter": "python",
   "pygments_lexer": "ipython3",
   "version": "3.12.2"
  },
  "papermill": {
   "default_parameters": {},
   "duration": 113.065759,
   "end_time": "2022-05-16T06:10:03.925893",
   "environment_variables": {},
   "exception": null,
   "input_path": "__notebook__.ipynb",
   "output_path": "__notebook__.ipynb",
   "parameters": {},
   "start_time": "2022-05-16T06:08:10.860134",
   "version": "2.3.4"
  }
 },
 "nbformat": 4,
 "nbformat_minor": 5
}
